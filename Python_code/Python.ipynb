{
 "cells": [
  {
   "cell_type": "code",
   "execution_count": null,
   "metadata": {},
   "outputs": [],
   "source": [
    "a=10\n",
    "b=20\n",
    "c=a+b\n",
    "print(c)\n"
   ]
  },
  {
   "cell_type": "code",
   "execution_count": 1,
   "metadata": {},
   "outputs": [
    {
     "name": "stdout",
     "output_type": "stream",
     "text": [
      "30\n"
     ]
    }
   ],
   "source": [
    "a=10\n",
    "b=20\n",
    "c=a+b\n",
    "print(c)"
   ]
  },
  {
   "cell_type": "code",
   "execution_count": 2,
   "metadata": {},
   "outputs": [
    {
     "name": "stdout",
     "output_type": "stream",
     "text": [
      "Helloworld\n"
     ]
    }
   ],
   "source": [
    "#print hello world\n",
    "print(\"Helloworld\")"
   ]
  },
  {
   "cell_type": "code",
   "execution_count": 7,
   "metadata": {},
   "outputs": [
    {
     "name": "stdout",
     "output_type": "stream",
     "text": [
      "200\n",
      "120\n",
      "250\n"
     ]
    }
   ],
   "source": [
    "#WAS to intialize the value\n",
    "a,b,c=200,120,250\n",
    "print(a)\n",
    "print(b)\n",
    "print(c)\n",
    "\n",
    "\n",
    "\n"
   ]
  },
  {
   "cell_type": "code",
   "execution_count": 13,
   "metadata": {},
   "outputs": [
    {
     "data": {
      "text/plain": [
       "set"
      ]
     },
     "execution_count": 13,
     "metadata": {},
     "output_type": "execute_result"
    }
   ],
   "source": [
    "#print the type of data \n",
    "a={100,200}\n",
    "type(a)\n"
   ]
  },
  {
   "cell_type": "code",
   "execution_count": 14,
   "metadata": {},
   "outputs": [
    {
     "data": {
      "text/plain": [
       "1650332611104"
      ]
     },
     "execution_count": 14,
     "metadata": {},
     "output_type": "execute_result"
    }
   ],
   "source": [
    "#print address of the memory block\n",
    "a={100,200}\n",
    "id(a)"
   ]
  },
  {
   "cell_type": "code",
   "execution_count": 16,
   "metadata": {},
   "outputs": [
    {
     "data": {
      "text/plain": [
       "1650332610432"
      ]
     },
     "execution_count": 16,
     "metadata": {},
     "output_type": "execute_result"
    }
   ],
   "source": [
    "a={100,200}\n",
    "id({100,200})"
   ]
  },
  {
   "cell_type": "code",
   "execution_count": 4,
   "metadata": {},
   "outputs": [
    {
     "name": "stdout",
     "output_type": "stream",
     "text": [
      "rahul\n",
      "26\n",
      "rahul 26 9855106623 5.5 True\n",
      "rahul@gmail.com\n",
      "True\n"
     ]
    }
   ],
   "source": [
    "#print your details first store your details extract the value and display\n",
    "#variable concept\n",
    "name='rahul'\n",
    "age=26\n",
    "mobile=9855106623\n",
    "eamail='rahul@gmail.com'\n",
    "height=5.5\n",
    "pancard=True\n",
    "print(name)\n",
    "print(age)\n",
    "print(name,age,mobile,height,pancard)\n",
    "#there are some disadvantage to use variable concept the we have to remember all the attributes of the person so it is difficult\n",
    "# to overcome this list is used\n",
    "rahul=['rahul',9855106623,'rahul@gmail.com',5.5 ,True]\n",
    "print(rahul[2])\n",
    "print(rahul[-1])\n",
    "# disadvantage of list is we have to remember the postion to fetch the particular item\n",
    "# to overcome this dictionary is used\n",
    "rahul={'name':'rahul','age':26, mobile:9855106623,'email':'rahul@gmail.com',height:5.5,pancard:True}\n",
    "#there are some disadvantage of dictionary so to overcome that oops concept is used\n"
   ]
  },
  {
   "cell_type": "code",
   "execution_count": 6,
   "metadata": {},
   "outputs": [
    {
     "name": "stdout",
     "output_type": "stream",
     "text": [
      "20\n",
      "10\n"
     ]
    }
   ],
   "source": [
    "# to swap the two values with a temp variable \n",
    "x=10\n",
    "y=20\n",
    "temp=x\n",
    "x=y\n",
    "y=temp\n",
    "print(x)\n",
    "print(y)\n"
   ]
  },
  {
   "cell_type": "code",
   "execution_count": 1,
   "metadata": {},
   "outputs": [
    {
     "name": "stdout",
     "output_type": "stream",
     "text": [
      "{10, 20}\n",
      "[10, 20]\n"
     ]
    }
   ],
   "source": [
    "#swap the two numbers without temp variable\n",
    "m=[10,20]\n",
    "n={10,20}\n",
    "m,n=n,m\n",
    "print(m)\n",
    "print(n)"
   ]
  },
  {
   "cell_type": "code",
   "execution_count": 3,
   "metadata": {},
   "outputs": [
    {
     "name": "stdout",
     "output_type": "stream",
     "text": [
      "{'a': 'pyspiders'}\n",
      "{'a': 'qspiders'}\n",
      "qspiders\n",
      "[10, 20, 30]\n",
      "[10, 20, 30, 40, 50, 60]\n"
     ]
    },
    {
     "ename": "NameError",
     "evalue": "name 'a' is not defined",
     "output_type": "error",
     "traceback": [
      "\u001b[1;31m---------------------------------------------------------------------------\u001b[0m",
      "\u001b[1;31mNameError\u001b[0m                                 Traceback (most recent call last)",
      "Cell \u001b[1;32mIn[3], line 18\u001b[0m\n\u001b[0;32m     16\u001b[0m \u001b[39m#deletion\u001b[39;00m\n\u001b[0;32m     17\u001b[0m \u001b[39mdel\u001b[39;00m a\n\u001b[1;32m---> 18\u001b[0m \u001b[39mprint\u001b[39m(a)\n",
      "\u001b[1;31mNameError\u001b[0m: name 'a' is not defined"
     ]
    }
   ],
   "source": [
    "# to initialize a value and print the value after print the value the reinitialize the new value to the existing variable and display the value\n",
    "#initialization\n",
    "a={'a':'pyspiders'}\n",
    "#fetch\n",
    "print(a)\n",
    "#modification\n",
    "a['a']='qspiders'\n",
    "print(a)\n",
    "print(a['a'])\n",
    "#reinitialization\n",
    "a=[10,20,30]\n",
    "print(a)\n",
    "#concatination\n",
    "a+=[40,50,60]\n",
    "print(a)\n",
    "#deletion\n",
    "del a\n",
    "print(a)"
   ]
  },
  {
   "cell_type": "code",
   "execution_count": 4,
   "metadata": {},
   "outputs": [
    {
     "name": "stdout",
     "output_type": "stream",
     "text": [
      "10\n",
      "['1', '0']\n",
      "['1', '0']\n"
     ]
    }
   ],
   "source": [
    "#to convert single to multi value data type\n",
    "#first converted to string then to list\n",
    "a=10\n",
    "a=str(a)\n",
    "print(a)\n",
    "a=list(a)\n",
    "print(a)\n",
    "# direct \n",
    "a=10\n",
    "print(list(str(a)))\n"
   ]
  },
  {
   "cell_type": "code",
   "execution_count": 5,
   "metadata": {},
   "outputs": [
    {
     "name": "stdout",
     "output_type": "stream",
     "text": [
      "helloworld\n",
      "[10, 20, 30, 40, 50, 60]\n",
      "[10, 20, 30, 'h', 'a', 'i']\n",
      "[10, 20, 30, 40]\n",
      "[10, 20, 30, 'a', 'c']\n",
      "[10, 20, 30, 40, 50]\n",
      "('a', 'b', 'c', 'c', 'd')\n",
      "{50, 20, 40, 10, 30}\n",
      "{10: 20, 30: 40, 'a': 'haii', 'b': 'bye'}\n"
     ]
    }
   ],
   "source": [
    "# to concate the two multi value data types(str,list,tuple,set,dict)\n",
    "#using compound assignment operator\n",
    "#string\n",
    "x='hello'\n",
    "x+='world'\n",
    "print(x)\n",
    "#list to list\n",
    "y=[10,20,30]\n",
    "y+=[40,50,60]\n",
    "print(y)\n",
    "#list to string\n",
    "y=[10,20,30]\n",
    "y+='hai'\n",
    "print(y)\n",
    "#list to tuple\n",
    "y=[10,20]\n",
    "y+=(30,40)\n",
    "print(y)\n",
    "#list to dict\n",
    "y=[10,20,30]\n",
    "y+={'a':'b','c':'d'}\n",
    "print(y)\n",
    "#using only + operator\n",
    "#only list to list is possible\n",
    "l=[10,20,30]\n",
    "l=l+[40,50]\n",
    "print(l)\n",
    "#tuple(compount ass) \n",
    "t=('a','b','c')\n",
    "t+=('c','d')\n",
    "print(t)\n",
    "#set\n",
    "x={10,20,30}\n",
    "x|={40,50}\n",
    "print(x)\n",
    "#dictionary\n",
    "x={10:20,30:40}\n",
    "x|={'a':'haii','b':'bye'}\n",
    "print(x)\n",
    "\n"
   ]
  },
  {
   "cell_type": "code",
   "execution_count": null,
   "metadata": {},
   "outputs": [],
   "source": [
    "#to check the length of the collection\n",
    "#tuple\n",
    "a=(10,20)\n",
    "print(len(t))\n",
    "#dictionary\n",
    "a={1:2,3:4,5:6}\n",
    "print(len(a))\n",
    "#string\n",
    "a='hello'\n",
    "print(len(a))\n",
    "#list\n",
    "d=[1,2,3,4,5]\n",
    "print(len(d))\n",
    "#set\n",
    "s={10,20,30,40,50,60}\n",
    "print(len(s))\n"
   ]
  },
  {
   "cell_type": "code",
   "execution_count": 6,
   "metadata": {},
   "outputs": [
    {
     "name": "stdout",
     "output_type": "stream",
     "text": [
      "30\n",
      "30\n"
     ]
    }
   ],
   "source": [
    "#to check find out the middle value of the given collection\n",
    "#len of collection is odd\n",
    "d=[10,20,30,40,50]\n",
    "print(d[len(d)//2])\n",
    "#len of collection is even\n",
    "l=[10,20,30,40]\n",
    "print(l[len(l)//2])\n",
    "\n",
    "\n"
   ]
  },
  {
   "cell_type": "code",
   "execution_count": 10,
   "metadata": {},
   "outputs": [
    {
     "name": "stdout",
     "output_type": "stream",
     "text": [
      "haiihow are u\n"
     ]
    }
   ],
   "source": [
    "#to concat the new string into the starting of the given string\n",
    "a='how are u'\n",
    "b='haii'\n",
    "a=b+a\n",
    "print(a)\n",
    "\n",
    "\n"
   ]
  },
  {
   "cell_type": "code",
   "execution_count": 11,
   "metadata": {},
   "outputs": [
    {
     "name": "stdout",
     "output_type": "stream",
     "text": [
      "how are uhaii\n"
     ]
    }
   ],
   "source": [
    "#to concat the new string to the ending of the given string\n",
    "a='how are u'\n",
    "b='haii'\n",
    "a=a+b\n",
    "print(a)"
   ]
  },
  {
   "cell_type": "code",
   "execution_count": 17,
   "metadata": {},
   "outputs": [
    {
     "name": "stdout",
     "output_type": "stream",
     "text": [
      "how are u\n"
     ]
    }
   ],
   "source": [
    "#to concate the new string into the middle of the given string\n",
    "a='how u'\n",
    "print(a[0:3+1]+'are'+a[3:4+1])"
   ]
  },
  {
   "cell_type": "code",
   "execution_count": 18,
   "metadata": {},
   "outputs": [
    {
     "name": "stdout",
     "output_type": "stream",
     "text": [
      "i\n",
      "pysplders\n"
     ]
    }
   ],
   "source": [
    "#to modify the new character into the middle of given string\n",
    "s='pyspiders'\n",
    "print(s[len(s)//2]) #to fetch the middle value\n",
    "print(s[0:len(s)//2]+'l'+s[len(s)//2+1:]) #modification"
   ]
  },
  {
   "cell_type": "code",
   "execution_count": 21,
   "metadata": {},
   "outputs": [
    {
     "name": "stdout",
     "output_type": "stream",
     "text": [
      "pysPIDers\n",
      "pyspiDers\n",
      "pyspiDers\n",
      "pypiders\n"
     ]
    }
   ],
   "source": [
    "# 19)to modify the sequence of characters in given string\n",
    "s='pyspiders'\n",
    "print(s[0:3]+'PID'+s[6:])\n",
    "#m20)to replace the old character into a new character of the given string\n",
    "s='pyspiders'\n",
    "print(s[:-4]+'D'+s[-3:]) #-ve indexing\n",
    "s='pyspiders'\n",
    "print(s[:5]+'D'+s[6:])\n",
    "# 21) to delete the specific character in the given string\n",
    "s='pyspiders'\n",
    "print(s[:2]+s[3:])\n"
   ]
  },
  {
   "cell_type": "code",
   "execution_count": 2,
   "metadata": {},
   "outputs": [
    {
     "name": "stdout",
     "output_type": "stream",
     "text": [
      "haiihow are you\n",
      "haii how are you\n"
     ]
    }
   ],
   "source": [
    "# 22) to concat the new string into the specific postion of the given string\n",
    "r='haii are you'\n",
    "print(r[0:4]+'how'+r[4:])\n",
    "print(r[0:4+1]+'how'+r[4:])\n"
   ]
  },
  {
   "cell_type": "code",
   "execution_count": null,
   "metadata": {},
   "outputs": [],
   "source": [
    "#to delete sequence of characters in given string\n",
    "s='pyspiders'\n",
    "print(s[:3]+s[6:])"
   ]
  },
  {
   "cell_type": "code",
   "execution_count": 1,
   "metadata": {},
   "outputs": [
    {
     "name": "stdout",
     "output_type": "stream",
     "text": [
      "2556531271296\n",
      "['a', 'b', 1, 2, 3]\n",
      "2556531271104\n",
      "2556531273792\n",
      "['a', 'b', 10, 20, 30]\n",
      "2556531273792\n"
     ]
    }
   ],
   "source": [
    "#to concat the value into the starting of given list\n",
    "l=[1,2,3]\n",
    "print(id(l))\n",
    "l=['a','b']+l\n",
    "print(l)\n",
    "print(id(l))\n",
    "#address is changed\n",
    "#Slicing concept is used so that address is not changed\n",
    "t=[10,20,30]\n",
    "print(id(t))\n",
    "t[0:0]=['a','b']\n",
    "print(t)\n",
    "print(id(t))"
   ]
  },
  {
   "cell_type": "code",
   "execution_count": 3,
   "metadata": {},
   "outputs": [
    {
     "name": "stdout",
     "output_type": "stream",
     "text": [
      "2556531427456\n",
      "['a', 'b', 'c', 10, 20]\n",
      "2556531427712\n",
      "2556531427264\n",
      "['ramu', 'seetha', 'krishna', 'radha']\n",
      "2556531427264\n",
      "2556531427456\n",
      "[1, 2, 3, 4, 5, 6]\n",
      "2556531427456\n"
     ]
    }
   ],
   "source": [
    "#to concat the new value into the ending of given list\n",
    "r=['a','b','c']\n",
    "print(id(r))\n",
    "r=r+[10,20] #using + operator\n",
    "print(r)\n",
    "print(id(r))\n",
    "y=['ramu','seetha']\n",
    "print(id(y))\n",
    "y+=['krishna','radha'] #using compound of assignment operator\n",
    "print(y)\n",
    "print(id(y))\n",
    "t=[1,2,3]\n",
    "print(id(t))\n",
    "t[4:4]=[4,5,6] #slicing is used\n",
    "print(t)\n",
    "print(id(t))\n",
    "\n"
   ]
  },
  {
   "cell_type": "code",
   "execution_count": 1,
   "metadata": {},
   "outputs": [
    {
     "name": "stdout",
     "output_type": "stream",
     "text": [
      "1662106279744\n",
      "[1, 150.12, '10', '20', True, 'haii']\n",
      "1662106279744\n"
     ]
    }
   ],
   "source": [
    "# 26) to concate the value into the middle of the given list\n",
    "l=[10,150.12,True,'haii']\n",
    "print(id(l))\n",
    "l[len(l)//2:len(l)//2]=['10','20']\n",
    "print(l)\n",
    "print(id(l))\n",
    "#same address"
   ]
  },
  {
   "cell_type": "code",
   "execution_count": 3,
   "metadata": {},
   "outputs": [
    {
     "name": "stdout",
     "output_type": "stream",
     "text": [
      "[10, 150.12, 100, 200, True, 'haii']\n"
     ]
    }
   ],
   "source": [
    "# 27)to concate the new value to the specific postion of the given list\n",
    "l=[10,150.12,True,'haii']\n",
    "l[-2:-2]=[100,200]\n",
    "print(l)\n"
   ]
  },
  {
   "cell_type": "code",
   "execution_count": 1,
   "metadata": {},
   "outputs": [
    {
     "name": "stdout",
     "output_type": "stream",
     "text": [
      "[10, (15+6j), True, 'haii']\n"
     ]
    }
   ],
   "source": [
    "# 28) to modify the new value into the specific position of given list\n",
    "l=[10,150.12,True,'haii']\n",
    "l[1]=15+6j\n",
    "print(l)\n"
   ]
  },
  {
   "cell_type": "code",
   "execution_count": 6,
   "metadata": {},
   "outputs": [
    {
     "name": "stdout",
     "output_type": "stream",
     "text": [
      "[{'abc': 150}, 150.12, True, 'haii']\n"
     ]
    }
   ],
   "source": [
    "# 29) to modify the new value into the staring of given list\n",
    "l=[10,150.12,True,'haii']\n",
    "l[0]={'abc':150}\n",
    "print(l)"
   ]
  },
  {
   "cell_type": "code",
   "execution_count": 8,
   "metadata": {},
   "outputs": [
    {
     "name": "stdout",
     "output_type": "stream",
     "text": [
      "[10, 150.12, True, {'abc': 150}]\n"
     ]
    }
   ],
   "source": [
    "# 30) to modify the new value into ending of given list\n",
    "l=[10,150.12,True,'haii']\n",
    "l[-1]={'abc':150}\n",
    "print(l)"
   ]
  },
  {
   "cell_type": "code",
   "execution_count": 9,
   "metadata": {},
   "outputs": [
    {
     "name": "stdout",
     "output_type": "stream",
     "text": [
      "[10, 150.12, 'haii how are you', 'haii', 150]\n"
     ]
    }
   ],
   "source": [
    "# 31) to modify the new value into the middle of given list\n",
    "l=[10,150.12,True,'haii',150]\n",
    "l[len(l)//2]='haii how are you'\n",
    "print(l)"
   ]
  },
  {
   "cell_type": "code",
   "execution_count": 10,
   "metadata": {},
   "outputs": [
    {
     "name": "stdout",
     "output_type": "stream",
     "text": [
      "['a', 'b', 'c', 'd', 5, 6, 7, 8, 9]\n"
     ]
    }
   ],
   "source": [
    "# 32) to modify the first 4 positions values into a given list\n",
    "h=[1,2,3,4,5,6,7,8,9]\n",
    "h[0:4]=['a','b','c','d']\n",
    "print(h)"
   ]
  },
  {
   "cell_type": "code",
   "execution_count": 11,
   "metadata": {},
   "outputs": [
    {
     "name": "stdout",
     "output_type": "stream",
     "text": [
      "[2, 4, 6, 8]\n",
      "[1, 'a', 3, 'b', 5, 'c', 7, 'd', 9]\n"
     ]
    }
   ],
   "source": [
    "# 33) to modify the sequence of values into a given list\n",
    "d=[1,2,3,4,5,6,7,8,9]\n",
    "print(d[1::2])\n",
    "d[1::2]=['a','b','c','d']\n",
    "print(d)"
   ]
  },
  {
   "cell_type": "code",
   "execution_count": 12,
   "metadata": {},
   "outputs": [
    {
     "name": "stdout",
     "output_type": "stream",
     "text": [
      "[10, 30, 40]\n"
     ]
    }
   ],
   "source": [
    "# 34) to delete the values in the specific postion of given list\n",
    "l=[10,20,30,40]\n",
    "del l[1]\n",
    "print(l)\n"
   ]
  },
  {
   "cell_type": "code",
   "execution_count": 13,
   "metadata": {},
   "outputs": [
    {
     "name": "stdout",
     "output_type": "stream",
     "text": [
      "[10, 20, 30, 40]\n",
      "[10, 20, 30, 40]\n"
     ]
    }
   ],
   "source": [
    "# 35) to delete the new value into the ending of the list\n",
    "s=[10,20,30,40,50]\n",
    "del s[4]\n",
    "print(s)\n",
    "s[0:1] # using slicing\n",
    "print(s)"
   ]
  },
  {
   "cell_type": "code",
   "execution_count": 14,
   "metadata": {},
   "outputs": [
    {
     "name": "stdout",
     "output_type": "stream",
     "text": [
      "[2, 3, 4, 5, 6, 7]\n"
     ]
    }
   ],
   "source": [
    "# 36) to delete the value into the starting of the list\n",
    "s=[1,2,3,4,5,6,7]\n",
    "del s[0]\n",
    "print(s)"
   ]
  },
  {
   "cell_type": "code",
   "execution_count": 15,
   "metadata": {},
   "outputs": [
    {
     "name": "stdout",
     "output_type": "stream",
     "text": [
      "[1, 2, 3, 4, 6, 7, 8, 9]\n"
     ]
    }
   ],
   "source": [
    "# 37) to delete the value into the middle value\n",
    "s=[1,2,3,4,5,6,7,8,9]\n",
    "del s[len(s)//2]\n",
    "print(s)"
   ]
  },
  {
   "cell_type": "code",
   "execution_count": 5,
   "metadata": {},
   "outputs": [
    {
     "name": "stdout",
     "output_type": "stream",
     "text": [
      "('e', 'f', 'a', 'b', 'c', 'd')\n",
      "('e', 'f', 'a', 'b', 'c', 'd', 'e', 'f')\n"
     ]
    }
   ],
   "source": [
    "# 38) to concat the value into starting of tuple\n",
    "r=('a','b','c','d')\n",
    "r=('e','f')+r \n",
    "print(r)\n",
    "# 39) concating at ending\n",
    "r=r+('e','f') \n",
    "print(r)\n",
    "# 40) concating in the middle(Tuple will support concatination either starting and ending so slicing is used)\n",
    "r=r[0:2]+('123','456')+r[2:] \n",
    "\n"
   ]
  },
  {
   "cell_type": "code",
   "execution_count": 23,
   "metadata": {},
   "outputs": [
    {
     "name": "stdout",
     "output_type": "stream",
     "text": [
      "3\n",
      "(1, 2, 'a', 4, 5, 6)\n"
     ]
    }
   ],
   "source": [
    "# 41) modify the sequence of value in given tuple\n",
    "t=(1,2,3,4,5,6)\n",
    "print(t[2])\n",
    "t=t[:2]+('a',)+t[2+1:] # tuple cannot be modified directly so slicing is used\n",
    "print(t)"
   ]
  },
  {
   "cell_type": "code",
   "execution_count": 24,
   "metadata": {},
   "outputs": [
    {
     "name": "stdout",
     "output_type": "stream",
     "text": [
      "(10, 20, 30, 50)\n"
     ]
    }
   ],
   "source": [
    "# 42) delete the sequence of values in given tuple\n",
    "# deletion is not possible for tuple so slicing is used\n",
    "t=(10,20,30,40,50)\n",
    "t=t[0:3]+t[3+1:]\n",
    "print(t)\n"
   ]
  },
  {
   "cell_type": "code",
   "execution_count": 25,
   "metadata": {},
   "outputs": [
    {
     "name": "stdout",
     "output_type": "stream",
     "text": [
      "2368297283456\n",
      "{1, 2, 3, 4, 5, 6, 'A', 10, 20}\n",
      "2368297283680\n",
      "{10, 20, 'c', 30, 'a', 'b'}\n"
     ]
    }
   ],
   "source": [
    "# 43) to concat the new value into the set\n",
    "s={1,2,3,4,5,6}\n",
    "print(id(s))\n",
    "s=s|{10,20,'A'}\n",
    "print(s)\n",
    "print(id(s))\n",
    "s={'a','b','c'}\n",
    "s|={10,20,30}\n",
    "print(s)\n",
    "# address are different"
   ]
  },
  {
   "cell_type": "code",
   "execution_count": 26,
   "metadata": {},
   "outputs": [
    {
     "name": "stdout",
     "output_type": "stream",
     "text": [
      "2368297281664\n",
      "{'A', 1, 2, 3, 10, 20}\n",
      "2368297283904\n",
      "2368297281664\n",
      "{1, 2, 3, 4, 5, 6, 'A'}\n",
      "2368297281664\n"
     ]
    }
   ],
   "source": [
    "# 44) to delete the specific value into set\n",
    "s={1,2,3,4,5,6,10,20,'A'}\n",
    "print(id(s))\n",
    "s=s-{4,5,6} # normal - operator is used so address is changed\n",
    "print(s)\n",
    "print(id(s))\n",
    "s={1,2,3,4,5,6,10,20,'A'}\n",
    "print(id(s))\n",
    "s-={10,20,'a'} # using compound assignment operator so address is not changed\n",
    "print(s)\n",
    "print(id(s))\n",
    "\n"
   ]
  },
  {
   "cell_type": "code",
   "execution_count": 27,
   "metadata": {},
   "outputs": [
    {
     "name": "stdout",
     "output_type": "stream",
     "text": [
      "{'a': 150}\n",
      "{'a': 150, 'b': 750}\n",
      "{'a': 'haii', 'b': 750, 'c': 500, 'd': 780}\n"
     ]
    }
   ],
   "source": [
    "# 45) to concate the new key and value into dictionary\n",
    "d={'a':150}\n",
    "print(d)\n",
    "d['b']=750 # concating the key\n",
    "print(d)\n",
    "d={'a':150,'b':750}\n",
    "e={'c':500,'d':780,'a':'haii'} # concating new value\n",
    "d|=e\n",
    "print(d)"
   ]
  },
  {
   "cell_type": "code",
   "execution_count": 28,
   "metadata": {},
   "outputs": [
    {
     "name": "stdout",
     "output_type": "stream",
     "text": [
      "{'a': 'haii', 'b': 750, 'd': 780}\n"
     ]
    }
   ],
   "source": [
    "# 46)to delete the specific key and value in the given dictionary\n",
    "d={'a':'haii','b':750,'c':500,'d':780}\n",
    "del d['c']\n",
    "print(d)"
   ]
  },
  {
   "cell_type": "code",
   "execution_count": 29,
   "metadata": {},
   "outputs": [
    {
     "name": "stdout",
     "output_type": "stream",
     "text": [
      "{10: 156, 20: 'haii'}\n",
      "{10: [10, 20], 20: {10, 20, 30}}\n"
     ]
    }
   ],
   "source": [
    "# 47)to modify the specific value in the given dictionary\n",
    "x={10:150,20:'haii'}\n",
    "x[10]=156\n",
    "print(x)\n",
    "x|={10:[10,20],20:{10,20,30}}\n",
    "print(x)"
   ]
  },
  {
   "cell_type": "code",
   "execution_count": 33,
   "metadata": {},
   "outputs": [
    {
     "name": "stdout",
     "output_type": "stream",
     "text": [
      "['a', 'b', 'c', 10, 20, 30]\n",
      "('a', 'b', 'c', 10, 20, 30)\n",
      "['a', 'b', 'c', 10, 20, 30]\n"
     ]
    }
   ],
   "source": [
    "# 48) to concate the list value and tuple values by using type casting\n",
    "l=['a','b','c']\n",
    "t=(10,20,30)\n",
    "# cannot concate only list to list is possible\n",
    "# convert tuple to list and then concate\n",
    "print(l+list(t))\n",
    "print(tuple(l)+t)\n",
    "# using compound assignment\n",
    "l+=t\n",
    "print(l)\n",
    "\n"
   ]
  },
  {
   "cell_type": "code",
   "execution_count": 34,
   "metadata": {},
   "outputs": [
    {
     "name": "stdout",
     "output_type": "stream",
     "text": [
      "[100, 200, 300, 40, 'a', 'b']\n"
     ]
    }
   ],
   "source": [
    "# 49) to concate the list value and tuple value without using type casting\n",
    "l=[100,200,300]\n",
    "t=(40,'a','b')\n",
    "l+=t \n",
    "print(l)"
   ]
  },
  {
   "cell_type": "code",
   "execution_count": 36,
   "metadata": {},
   "outputs": [
    {
     "name": "stdout",
     "output_type": "stream",
     "text": [
      "0\n",
      "True\n",
      "True\n",
      "False\n"
     ]
    }
   ],
   "source": [
    "# 50) to check the given numbe is divisile by 3\n",
    "n=9\n",
    "# 1 method\n",
    "res=n%3\n",
    "print(res)\n",
    "print(res==0)\n",
    "# 2 method\n",
    "print(n%3==0)\n",
    "n=16\n",
    "print(n%3==0)\n"
   ]
  },
  {
   "cell_type": "code",
   "execution_count": 38,
   "metadata": {},
   "outputs": [
    {
     "name": "stdout",
     "output_type": "stream",
     "text": [
      "True\n",
      "False\n"
     ]
    }
   ],
   "source": [
    "# 51) to check the given number is divisible by 2 and 6\n",
    "n=12\n",
    "print(n%2==0 and n%6==0)\n",
    "n=21\n",
    "print(n%2==0 and n%6==0)\n"
   ]
  },
  {
   "cell_type": "code",
   "execution_count": 4,
   "metadata": {},
   "outputs": [
    {
     "name": "stdout",
     "output_type": "stream",
     "text": [
      "True\n",
      "False\n"
     ]
    }
   ],
   "source": [
    "# 52) to check the last digit is divisible by 3 from given integer number(without type casting)\n",
    "n=2026\n",
    "print((n%10)%3==0)\n",
    "n=1998\n",
    "print((n%10)%3==0)\n"
   ]
  },
  {
   "cell_type": "code",
   "execution_count": 42,
   "metadata": {},
   "outputs": [
    {
     "name": "stdout",
     "output_type": "stream",
     "text": [
      "9\n",
      "99\n",
      "999\n"
     ]
    }
   ],
   "source": [
    "# 53) to extract the last digit in given integer number(wihtout typecasting)\n",
    "n=1999\n",
    "print(n%10)\n",
    "# last 2 digits\n",
    "print(n%100)\n",
    "# last 3 digits\n",
    "print(n%1000)"
   ]
  },
  {
   "cell_type": "code",
   "execution_count": 43,
   "metadata": {},
   "outputs": [
    {
     "name": "stdout",
     "output_type": "stream",
     "text": [
      "2026\n",
      "6\n",
      "6\n",
      "False\n",
      "True\n"
     ]
    }
   ],
   "source": [
    "# 54) to check the last digit is divisible by 3 from given integer( with typecasting)\n",
    "n=2026\n",
    "print(str(n)) # convert to string\n",
    "print(str(n)[-1]) # fetch the last digit\n",
    "print(int(str(n)[-1])) # again convert to integer\n",
    "n=2024\n",
    "print(int(str(n)[-1])%3==0) # check last digit is divisible by 3\n",
    "n=2026\n",
    "print(int(str(n)[-1])%3==0)\n"
   ]
  },
  {
   "cell_type": "code",
   "execution_count": 44,
   "metadata": {},
   "outputs": [
    {
     "name": "stdout",
     "output_type": "stream",
     "text": [
      "True\n",
      "False\n"
     ]
    }
   ],
   "source": [
    "# 55) to check the given number is greater than 150\n",
    "n=200\n",
    "print(n>150)\n",
    "n=140\n",
    "print(n>150)"
   ]
  },
  {
   "cell_type": "code",
   "execution_count": 45,
   "metadata": {},
   "outputs": [
    {
     "name": "stdout",
     "output_type": "stream",
     "text": [
      "True\n",
      "True\n",
      "False\n"
     ]
    }
   ],
   "source": [
    "# 56) to check the given umer is greater than or equal to 100\n",
    "n=200\n",
    "print(n>=100)\n",
    "n=100\n",
    "print(n>=100)\n",
    "n=99\n",
    "print(n>=100)\n"
   ]
  },
  {
   "cell_type": "code",
   "execution_count": 46,
   "metadata": {},
   "outputs": [
    {
     "name": "stdout",
     "output_type": "stream",
     "text": [
      "True\n",
      "False\n"
     ]
    }
   ],
   "source": [
    "# 57) to check the given number is less than 150 \n",
    "n=130\n",
    "print(n<150)\n",
    "n=150\n",
    "print(n<150)"
   ]
  },
  {
   "cell_type": "code",
   "execution_count": 47,
   "metadata": {},
   "outputs": [
    {
     "name": "stdout",
     "output_type": "stream",
     "text": [
      "True\n",
      "True\n",
      "False\n"
     ]
    }
   ],
   "source": [
    "# 58) to check the given number is less than or equla to 100\n",
    "n=130\n",
    "print(n<=150)\n",
    "n=150\n",
    "print(n<=150)\n",
    "n=200\n",
    "print(n<=150)"
   ]
  },
  {
   "cell_type": "code",
   "execution_count": 48,
   "metadata": {},
   "outputs": [
    {
     "name": "stdout",
     "output_type": "stream",
     "text": [
      "True\n",
      "False\n"
     ]
    }
   ],
   "source": [
    "# 59) to check the given number is greater than 15 and less than 24\n",
    "n=23\n",
    "print(n>15 and n<24)\n",
    "n=25\n",
    "print(n>15 and n<24)\n"
   ]
  },
  {
   "cell_type": "code",
   "execution_count": 52,
   "metadata": {},
   "outputs": [
    {
     "name": "stdout",
     "output_type": "stream",
     "text": [
      "False\n",
      "True\n"
     ]
    }
   ],
   "source": [
    "# 60)to check the given number is even\n",
    "n=5\n",
    "print(n%2==0)\n",
    "n=4\n",
    "print(n%2==0)\n",
    "\n"
   ]
  },
  {
   "cell_type": "code",
   "execution_count": 51,
   "metadata": {},
   "outputs": [
    {
     "name": "stdout",
     "output_type": "stream",
     "text": [
      "True\n",
      "False\n"
     ]
    }
   ],
   "source": [
    "# 61) to check the given number is odd\n",
    "n=5\n",
    "print(n%2!=0)\n",
    "n=4\n",
    "print(n%2!=0)"
   ]
  },
  {
   "cell_type": "code",
   "execution_count": 54,
   "metadata": {},
   "outputs": [
    {
     "name": "stdout",
     "output_type": "stream",
     "text": [
      "abcabcabc\n",
      "[10, 20, 10, 20, 10, 20, 10, 20]\n",
      "('a', 'b', None, 'a', 'b', None, 'a', 'b', None, 'a', 'b', None, 'a', 'b', None, 'a', 'b', None)\n"
     ]
    }
   ],
   "source": [
    "# 62)to check perform the replication of given string with 6\n",
    "s='abc'\n",
    "print(s*3)\n",
    "s=[10,20]\n",
    "print(s*4)\n",
    "t=('a','b',None)\n",
    "print(t*6)\n",
    "# set and dict will not support"
   ]
  },
  {
   "cell_type": "code",
   "execution_count": 55,
   "metadata": {},
   "outputs": [
    {
     "name": "stdout",
     "output_type": "stream",
     "text": [
      "True\n",
      "False\n"
     ]
    }
   ],
   "source": [
    "# 63) to check the given numberis divisible by 3 and also the number greater than 22\n",
    "n=24\n",
    "print(n%3==0 and n>22)\n",
    "n=21\n",
    "print(n%3==0 and n>22)"
   ]
  },
  {
   "cell_type": "code",
   "execution_count": 56,
   "metadata": {},
   "outputs": [
    {
     "name": "stdout",
     "output_type": "stream",
     "text": [
      "False\n",
      "True\n"
     ]
    }
   ],
   "source": [
    "# 64) to check perform the length of the collection is even or not\n",
    "g='pyspiders'\n",
    "print(len(g)%2==0)\n",
    "g='pyspider'\n",
    "print(len(g)%2==0)\n"
   ]
  },
  {
   "cell_type": "code",
   "execution_count": 8,
   "metadata": {},
   "outputs": [
    {
     "name": "stdout",
     "output_type": "stream",
     "text": [
      "True\n",
      "True\n",
      "False\n"
     ]
    }
   ],
   "source": [
    "# 65) to check perform the lenght of the collection is less than 55 and greater than 16\n",
    "r='Good Morning Hyderabad'\n",
    "# method 1\n",
    "print(len(r)>16 and len(r)<55)\n",
    "# method 2\n",
    "print(16<len(r)<55)\n",
    "# method 2\n",
    "print(16<len(r) and len(r)>55)"
   ]
  },
  {
   "cell_type": "code",
   "execution_count": 10,
   "metadata": {},
   "outputs": [
    {
     "name": "stdout",
     "output_type": "stream",
     "text": [
      "True\n",
      "False\n"
     ]
    }
   ],
   "source": [
    "# 66) to check perfom the length of the collection is divisible by 5 and odd\n",
    "r='HaiGood Morning Hyderabad'\n",
    "print(len(r)%5==0 and len(r)%2!=0)\n",
    "r='Good Morning Hyderabad'\n",
    "print(len(r)%5==0 and len(r)%2!=0)\n"
   ]
  },
  {
   "cell_type": "code",
   "execution_count": 25,
   "metadata": {},
   "outputs": [
    {
     "name": "stdout",
     "output_type": "stream",
     "text": [
      "i\n",
      "<class 'str'>\n"
     ]
    }
   ],
   "source": [
    "# 67) to check extract the middle postion of the given colletion\n",
    "s='haii'\n",
    "len(s)//2 #finding the length of the string\n",
    "print(s[len(s)//2]) #extracting the middle value\n",
    "r=type(s[len(s)//2]) # finding type of s\n",
    "print(r)\n"
   ]
  },
  {
   "cell_type": "code",
   "execution_count": 26,
   "metadata": {},
   "outputs": [
    {
     "name": "stdout",
     "output_type": "stream",
     "text": [
      "30\n",
      "<class 'int'>\n"
     ]
    }
   ],
   "source": [
    "# 67)\n",
    "l=[10,20,30,40]\n",
    "len(l)//2               # find the length of the list\n",
    "print(l[len(l)//2])     # extracting the middle value\n",
    "u=type(l[len(l)//2])    # finding type of l\n",
    "print(u)"
   ]
  },
  {
   "cell_type": "code",
   "execution_count": 27,
   "metadata": {},
   "outputs": [
    {
     "name": "stdout",
     "output_type": "stream",
     "text": [
      "True\n"
     ]
    }
   ],
   "source": [
    "# 68) to check the given number is greater than 20 and less than 30 it should be even \n",
    "n=24\n",
    "print(n>20 and n<30)"
   ]
  },
  {
   "cell_type": "code",
   "execution_count": 28,
   "metadata": {},
   "outputs": [
    {
     "name": "stdout",
     "output_type": "stream",
     "text": [
      "True\n",
      "False\n"
     ]
    }
   ],
   "source": [
    "# 69) to check the given number is even and it should be less than 120\n",
    "n=100\n",
    "print(n%2==0 and n<120)\n",
    "n=115\n",
    "print(n%2==0 and n<120)"
   ]
  },
  {
   "cell_type": "code",
   "execution_count": 29,
   "metadata": {},
   "outputs": [
    {
     "name": "stdout",
     "output_type": "stream",
     "text": [
      "True\n"
     ]
    }
   ],
   "source": [
    "# 70) to check the given number is even and present from 40 to 70\n",
    "n=42\n",
    "print(n%2==0 and 40<n<70)"
   ]
  },
  {
   "cell_type": "code",
   "execution_count": 32,
   "metadata": {},
   "outputs": [
    {
     "name": "stdout",
     "output_type": "stream",
     "text": [
      "True\n",
      "False\n"
     ]
    }
   ],
   "source": [
    "#71) to check the given number is odd and it should be greater than 97\n",
    "n=99\n",
    "print(n%2!=0 and n>97)\n",
    "n=94\n",
    "print(n%2!=0 and n>97)"
   ]
  },
  {
   "cell_type": "code",
   "execution_count": 34,
   "metadata": {},
   "outputs": [
    {
     "name": "stdout",
     "output_type": "stream",
     "text": [
      "True\n",
      "True\n"
     ]
    }
   ],
   "source": [
    "# 72) to check the given number is less than 122 and greater than 48 and the number should be divisible by 4\n",
    "n=120\n",
    "# method 1\n",
    "print(n%4==0 and 48<n<122)\n",
    "# method 2\n",
    "print(n%4==0 and n>48 and n<122)"
   ]
  },
  {
   "cell_type": "code",
   "execution_count": 37,
   "metadata": {},
   "outputs": [
    {
     "name": "stdout",
     "output_type": "stream",
     "text": [
      "True\n",
      "False\n"
     ]
    }
   ],
   "source": [
    "# 73) to check the given number is divisible by 3 or 5 \n",
    "n=12\n",
    "print(n%3==0 or n%5==0)\n",
    "n=7\n",
    "print(n%3==0 or n%5==0)"
   ]
  },
  {
   "cell_type": "code",
   "execution_count": 43,
   "metadata": {},
   "outputs": [
    {
     "name": "stdout",
     "output_type": "stream",
     "text": [
      "True\n",
      "True\n",
      "False\n"
     ]
    }
   ],
   "source": [
    "# 74) to check the given number is between 100 and 200 including the limit\n",
    "n=105\n",
    "print(100<=n<=200)\n",
    "n=200\n",
    "print(100<=n<=200)\n",
    "n=300\n",
    "print(100<=n<=200)\n"
   ]
  },
  {
   "cell_type": "code",
   "execution_count": 41,
   "metadata": {},
   "outputs": [
    {
     "name": "stdout",
     "output_type": "stream",
     "text": [
      "True\n",
      "False\n"
     ]
    }
   ],
   "source": [
    "# 75) to check the given number is between 400 and 600\n",
    "m=550\n",
    "print(400<m<600)\n",
    "m=600\n",
    "print(400<m<600)\n"
   ]
  },
  {
   "cell_type": "code",
   "execution_count": 45,
   "metadata": {},
   "outputs": [
    {
     "name": "stdout",
     "output_type": "stream",
     "text": [
      "e\n",
      "False\n"
     ]
    }
   ],
   "source": [
    "\n",
    "# 76) to check the given string last character ASCII value should be divisible by 5 or not\n",
    "s='apple'\n",
    "print(s[-1]) # extract the last character\n",
    "ord(s[-1]) # to find the ASCII value we have to use ord() it is a predefined builtin function,accept only one char and returns inter value\n",
    "s='apple'\n",
    "print(ord(s[-1])%5==0)\n"
   ]
  },
  {
   "cell_type": "code",
   "execution_count": 47,
   "metadata": {},
   "outputs": [
    {
     "name": "stdout",
     "output_type": "stream",
     "text": [
      "False\n",
      "True\n"
     ]
    }
   ],
   "source": [
    "# 77) to check the given number is present between 60 and 130 and the number should be divisible y 3 and 4 and last digit should be less than 9\n",
    "n=129\n",
    "print(60<=n<=130 and n%3==0 and n%4==0 and n%10<9)\n",
    "n=120\n",
    "print(60<=n<=130 and n%3==0 and n%4==0 and n%10<9)\n"
   ]
  },
  {
   "cell_type": "code",
   "execution_count": 49,
   "metadata": {},
   "outputs": [
    {
     "name": "stdout",
     "output_type": "stream",
     "text": [
      "True\n",
      "True\n"
     ]
    }
   ],
   "source": [
    "# 78) to check the given nuber is even or less than 25\n",
    "n=24\n",
    "print(n%2==0 or n<25)\n",
    "n=26\n",
    "print(n%2==0 or n<25)"
   ]
  },
  {
   "cell_type": "code",
   "execution_count": 50,
   "metadata": {},
   "outputs": [
    {
     "name": "stdout",
     "output_type": "stream",
     "text": [
      "True\n"
     ]
    }
   ],
   "source": [
    "# 79) to check the given number is even or greater than 25\n",
    "n=26 \n",
    "print(n%2==0 and n>25)"
   ]
  },
  {
   "cell_type": "code",
   "execution_count": 51,
   "metadata": {},
   "outputs": [
    {
     "name": "stdout",
     "output_type": "stream",
     "text": [
      "True\n"
     ]
    }
   ],
   "source": [
    "# 80) to check the given number is divisible by either 3 or 5\n",
    "n=12\n",
    "print(n%3==0 or n%5==0)"
   ]
  },
  {
   "cell_type": "code",
   "execution_count": 52,
   "metadata": {},
   "outputs": [
    {
     "name": "stdout",
     "output_type": "stream",
     "text": [
      "True\n"
     ]
    }
   ],
   "source": [
    "# 81) to check the given number is not an even number\n",
    "n=5\n",
    "print(n%2!=0)"
   ]
  },
  {
   "cell_type": "code",
   "execution_count": 53,
   "metadata": {},
   "outputs": [
    {
     "name": "stdout",
     "output_type": "stream",
     "text": [
      "True\n"
     ]
    }
   ],
   "source": [
    "# 82) to check the given number is not an odd number\n",
    "n=4\n",
    "print(n%2==0)"
   ]
  },
  {
   "cell_type": "code",
   "execution_count": 54,
   "metadata": {},
   "outputs": [
    {
     "name": "stdout",
     "output_type": "stream",
     "text": [
      "False\n"
     ]
    }
   ],
   "source": [
    "# 83) to check the given number is not divisible by 3\n",
    "n=12\n",
    "print(n%3!=0)"
   ]
  },
  {
   "cell_type": "code",
   "execution_count": 55,
   "metadata": {},
   "outputs": [
    {
     "name": "stdout",
     "output_type": "stream",
     "text": [
      "False\n"
     ]
    }
   ],
   "source": [
    "# 84) to check the given number is not divisible by 3 and 5\n",
    "n=6\n",
    "print(n%3!=0 and n%5!=0)"
   ]
  },
  {
   "cell_type": "code",
   "execution_count": 56,
   "metadata": {},
   "outputs": [
    {
     "name": "stdout",
     "output_type": "stream",
     "text": [
      "True\n"
     ]
    }
   ],
   "source": [
    "# 85) to check the given number is not divisible by 3 or 5\n",
    "n=6\n",
    "print(n%3!=0 or n%5!=0)"
   ]
  },
  {
   "cell_type": "code",
   "execution_count": null,
   "metadata": {},
   "outputs": [],
   "source": []
  },
  {
   "cell_type": "code",
   "execution_count": null,
   "metadata": {},
   "outputs": [],
   "source": []
  },
  {
   "cell_type": "code",
   "execution_count": null,
   "metadata": {},
   "outputs": [],
   "source": []
  }
 ],
 "metadata": {
  "kernelspec": {
   "display_name": "Python 3",
   "language": "python",
   "name": "python3"
  },
  "language_info": {
   "codemirror_mode": {
    "name": "ipython",
    "version": 3
   },
   "file_extension": ".py",
   "mimetype": "text/x-python",
   "name": "python",
   "nbconvert_exporter": "python",
   "pygments_lexer": "ipython3",
   "version": "3.11.4"
  },
  "orig_nbformat": 4
 },
 "nbformat": 4,
 "nbformat_minor": 2
}
