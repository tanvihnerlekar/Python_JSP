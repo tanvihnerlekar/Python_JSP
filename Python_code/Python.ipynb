{
 "cells": [
  {
   "cell_type": "code",
   "execution_count": null,
   "metadata": {},
   "outputs": [],
   "source": [
    "a=10\n",
    "b=20\n",
    "c=a+b\n",
    "print(c)\n"
   ]
  },
  {
   "cell_type": "code",
   "execution_count": 1,
   "metadata": {},
   "outputs": [
    {
     "name": "stdout",
     "output_type": "stream",
     "text": [
      "30\n"
     ]
    }
   ],
   "source": [
    "a=10\n",
    "b=20\n",
    "c=a+b\n",
    "print(c)"
   ]
  },
  {
   "cell_type": "code",
   "execution_count": 2,
   "metadata": {},
   "outputs": [
    {
     "name": "stdout",
     "output_type": "stream",
     "text": [
      "Helloworld\n"
     ]
    }
   ],
   "source": [
    "#print hello world\n",
    "print(\"Helloworld\")"
   ]
  },
  {
   "cell_type": "code",
   "execution_count": 7,
   "metadata": {},
   "outputs": [
    {
     "name": "stdout",
     "output_type": "stream",
     "text": [
      "200\n",
      "120\n",
      "250\n"
     ]
    }
   ],
   "source": [
    "#WAS to intialize the value\n",
    "a,b,c=200,120,250\n",
    "print(a)\n",
    "print(b)\n",
    "print(c)\n",
    "\n",
    "\n",
    "\n"
   ]
  },
  {
   "cell_type": "code",
   "execution_count": 13,
   "metadata": {},
   "outputs": [
    {
     "data": {
      "text/plain": [
       "set"
      ]
     },
     "execution_count": 13,
     "metadata": {},
     "output_type": "execute_result"
    }
   ],
   "source": [
    "#print the type of data \n",
    "a={100,200}\n",
    "type(a)\n"
   ]
  },
  {
   "cell_type": "code",
   "execution_count": 14,
   "metadata": {},
   "outputs": [
    {
     "data": {
      "text/plain": [
       "1650332611104"
      ]
     },
     "execution_count": 14,
     "metadata": {},
     "output_type": "execute_result"
    }
   ],
   "source": [
    "#print address of the memory block\n",
    "a={100,200}\n",
    "id(a)"
   ]
  },
  {
   "cell_type": "code",
   "execution_count": 16,
   "metadata": {},
   "outputs": [
    {
     "data": {
      "text/plain": [
       "1650332610432"
      ]
     },
     "execution_count": 16,
     "metadata": {},
     "output_type": "execute_result"
    }
   ],
   "source": [
    "a={100,200}\n",
    "id({100,200})"
   ]
  },
  {
   "cell_type": "code",
   "execution_count": 4,
   "metadata": {},
   "outputs": [
    {
     "name": "stdout",
     "output_type": "stream",
     "text": [
      "rahul\n",
      "26\n",
      "rahul 26 9855106623 5.5 True\n",
      "rahul@gmail.com\n",
      "True\n"
     ]
    }
   ],
   "source": [
    "#print your details first store your details extract the value and display\n",
    "#variable concept\n",
    "name='rahul'\n",
    "age=26\n",
    "mobile=9855106623\n",
    "eamail='rahul@gmail.com'\n",
    "height=5.5\n",
    "pancard=True\n",
    "print(name)\n",
    "print(age)\n",
    "print(name,age,mobile,height,pancard)\n",
    "#there are some disadvantage to use variable concept the we have to remember all the attributes of the person so it is difficult\n",
    "# to overcome this list is used\n",
    "rahul=['rahul',9855106623,'rahul@gmail.com',5.5 ,True]\n",
    "print(rahul[2])\n",
    "print(rahul[-1])\n",
    "# disadvantage of list is we have to remember the postion to fetch the particular item\n",
    "# to overcome this dictionary is used\n",
    "rahul={'name':'rahul','age':26, mobile:9855106623,'email':'rahul@gmail.com',height:5.5,pancard:True}\n",
    "#there are some disadvantage of dictionary so to overcome that oops concept is used\n"
   ]
  },
  {
   "cell_type": "code",
   "execution_count": 6,
   "metadata": {},
   "outputs": [
    {
     "name": "stdout",
     "output_type": "stream",
     "text": [
      "20\n",
      "10\n"
     ]
    }
   ],
   "source": [
    "# to swap the two values with a temp variable \n",
    "x=10\n",
    "y=20\n",
    "temp=x\n",
    "x=y\n",
    "y=temp\n",
    "print(x)\n",
    "print(y)\n"
   ]
  },
  {
   "cell_type": "code",
   "execution_count": 1,
   "metadata": {},
   "outputs": [
    {
     "name": "stdout",
     "output_type": "stream",
     "text": [
      "{10, 20}\n",
      "[10, 20]\n"
     ]
    }
   ],
   "source": [
    "#swap the two numbers without temp variable\n",
    "m=[10,20]\n",
    "n={10,20}\n",
    "m,n=n,m\n",
    "print(m)\n",
    "print(n)"
   ]
  },
  {
   "cell_type": "code",
   "execution_count": 3,
   "metadata": {},
   "outputs": [
    {
     "name": "stdout",
     "output_type": "stream",
     "text": [
      "{'a': 'pyspiders'}\n",
      "{'a': 'qspiders'}\n",
      "qspiders\n",
      "[10, 20, 30]\n",
      "[10, 20, 30, 40, 50, 60]\n"
     ]
    },
    {
     "ename": "NameError",
     "evalue": "name 'a' is not defined",
     "output_type": "error",
     "traceback": [
      "\u001b[1;31m---------------------------------------------------------------------------\u001b[0m",
      "\u001b[1;31mNameError\u001b[0m                                 Traceback (most recent call last)",
      "Cell \u001b[1;32mIn[3], line 18\u001b[0m\n\u001b[0;32m     16\u001b[0m \u001b[39m#deletion\u001b[39;00m\n\u001b[0;32m     17\u001b[0m \u001b[39mdel\u001b[39;00m a\n\u001b[1;32m---> 18\u001b[0m \u001b[39mprint\u001b[39m(a)\n",
      "\u001b[1;31mNameError\u001b[0m: name 'a' is not defined"
     ]
    }
   ],
   "source": [
    "# to initialize a value and print the value after print the value the reinitialize the new value to the existing variable and display the value\n",
    "#initialization\n",
    "a={'a':'pyspiders'}\n",
    "#fetch\n",
    "print(a)\n",
    "#modification\n",
    "a['a']='qspiders'\n",
    "print(a)\n",
    "print(a['a'])\n",
    "#reinitialization\n",
    "a=[10,20,30]\n",
    "print(a)\n",
    "#concatination\n",
    "a+=[40,50,60]\n",
    "print(a)\n",
    "#deletion\n",
    "del a\n",
    "print(a)"
   ]
  },
  {
   "cell_type": "code",
   "execution_count": 4,
   "metadata": {},
   "outputs": [
    {
     "name": "stdout",
     "output_type": "stream",
     "text": [
      "10\n",
      "['1', '0']\n",
      "['1', '0']\n"
     ]
    }
   ],
   "source": [
    "#to convert single to multi value data type\n",
    "#first converted to string then to list\n",
    "a=10\n",
    "a=str(a)\n",
    "print(a)\n",
    "a=list(a)\n",
    "print(a)\n",
    "# direct \n",
    "a=10\n",
    "print(list(str(a)))\n"
   ]
  },
  {
   "cell_type": "code",
   "execution_count": 5,
   "metadata": {},
   "outputs": [
    {
     "name": "stdout",
     "output_type": "stream",
     "text": [
      "helloworld\n",
      "[10, 20, 30, 40, 50, 60]\n",
      "[10, 20, 30, 'h', 'a', 'i']\n",
      "[10, 20, 30, 40]\n",
      "[10, 20, 30, 'a', 'c']\n",
      "[10, 20, 30, 40, 50]\n",
      "('a', 'b', 'c', 'c', 'd')\n",
      "{50, 20, 40, 10, 30}\n",
      "{10: 20, 30: 40, 'a': 'haii', 'b': 'bye'}\n"
     ]
    }
   ],
   "source": [
    "# to concate the two multi value data types(str,list,tuple,set,dict)\n",
    "#using compound assignment operator\n",
    "#string\n",
    "x='hello'\n",
    "x+='world'\n",
    "print(x)\n",
    "#list to list\n",
    "y=[10,20,30]\n",
    "y+=[40,50,60]\n",
    "print(y)\n",
    "#list to string\n",
    "y=[10,20,30]\n",
    "y+='hai'\n",
    "print(y)\n",
    "#list to tuple\n",
    "y=[10,20]\n",
    "y+=(30,40)\n",
    "print(y)\n",
    "#list to dict\n",
    "y=[10,20,30]\n",
    "y+={'a':'b','c':'d'}\n",
    "print(y)\n",
    "#using only + operator\n",
    "#only list to list is possible\n",
    "l=[10,20,30]\n",
    "l=l+[40,50]\n",
    "print(l)\n",
    "#tuple(compount ass) \n",
    "t=('a','b','c')\n",
    "t+=('c','d')\n",
    "print(t)\n",
    "#set\n",
    "x={10,20,30}\n",
    "x|={40,50}\n",
    "print(x)\n",
    "#dictionary\n",
    "x={10:20,30:40}\n",
    "x|={'a':'haii','b':'bye'}\n",
    "print(x)\n",
    "\n"
   ]
  },
  {
   "cell_type": "code",
   "execution_count": null,
   "metadata": {},
   "outputs": [],
   "source": [
    "#to check the length of the collection\n",
    "#tuple\n",
    "a=(10,20)\n",
    "print(len(t))\n",
    "#dictionary\n",
    "a={1:2,3:4,5:6}\n",
    "print(len(a))\n",
    "#string\n",
    "a='hello'\n",
    "print(len(a))\n",
    "#list\n",
    "d=[1,2,3,4,5]\n",
    "print(len(d))\n",
    "#set\n",
    "s={10,20,30,40,50,60}\n",
    "print(len(s))\n"
   ]
  },
  {
   "cell_type": "code",
   "execution_count": 6,
   "metadata": {},
   "outputs": [
    {
     "name": "stdout",
     "output_type": "stream",
     "text": [
      "30\n",
      "30\n"
     ]
    }
   ],
   "source": [
    "#to check find out the middle value of the given collection\n",
    "#len of collection is odd\n",
    "d=[10,20,30,40,50]\n",
    "print(d[len(d)//2])\n",
    "#len of collection is even\n",
    "l=[10,20,30,40]\n",
    "print(l[len(l)//2])\n",
    "\n",
    "\n"
   ]
  },
  {
   "cell_type": "code",
   "execution_count": 10,
   "metadata": {},
   "outputs": [
    {
     "name": "stdout",
     "output_type": "stream",
     "text": [
      "haiihow are u\n"
     ]
    }
   ],
   "source": [
    "#to concat the new string into the starting of the given string\n",
    "a='how are u'\n",
    "b='haii'\n",
    "a=b+a\n",
    "print(a)\n",
    "\n",
    "\n"
   ]
  },
  {
   "cell_type": "code",
   "execution_count": 11,
   "metadata": {},
   "outputs": [
    {
     "name": "stdout",
     "output_type": "stream",
     "text": [
      "how are uhaii\n"
     ]
    }
   ],
   "source": [
    "#to concat the new string to the ending of the given string\n",
    "a='how are u'\n",
    "b='haii'\n",
    "a=a+b\n",
    "print(a)"
   ]
  },
  {
   "cell_type": "code",
   "execution_count": 17,
   "metadata": {},
   "outputs": [
    {
     "name": "stdout",
     "output_type": "stream",
     "text": [
      "how are u\n"
     ]
    }
   ],
   "source": [
    "#to concate the new string into the middle of the given string\n",
    "a='how u'\n",
    "print(a[0:3+1]+'are'+a[3:4+1])"
   ]
  },
  {
   "cell_type": "code",
   "execution_count": 18,
   "metadata": {},
   "outputs": [
    {
     "name": "stdout",
     "output_type": "stream",
     "text": [
      "i\n",
      "pysplders\n"
     ]
    }
   ],
   "source": [
    "#to modify the new character into the middle of given string\n",
    "s='pyspiders'\n",
    "print(s[len(s)//2]) #to fetch the middle value\n",
    "print(s[0:len(s)//2]+'l'+s[len(s)//2+1:]) #modification"
   ]
  },
  {
   "cell_type": "code",
   "execution_count": 21,
   "metadata": {},
   "outputs": [
    {
     "name": "stdout",
     "output_type": "stream",
     "text": [
      "pysPIDers\n",
      "pyspiDers\n",
      "pyspiDers\n",
      "pypiders\n"
     ]
    }
   ],
   "source": [
    "# 19)to modify the sequence of characters in given string\n",
    "s='pyspiders'\n",
    "print(s[0:3]+'PID'+s[6:])\n",
    "#m20)to replace the old character into a new character of the given string\n",
    "s='pyspiders'\n",
    "print(s[:-4]+'D'+s[-3:]) #-ve indexing\n",
    "s='pyspiders'\n",
    "print(s[:5]+'D'+s[6:])\n",
    "# 21) to delete the specific character in the given string\n",
    "s='pyspiders'\n",
    "print(s[:2]+s[3:])\n"
   ]
  },
  {
   "cell_type": "code",
   "execution_count": null,
   "metadata": {},
   "outputs": [],
   "source": [
    "# 22) to concat the new string into the specific postion of the given string\n",
    "r='haii are you'\n",
    "print(r[0:4]+'how'+r[4:])\n",
    "print(r[0:4+1]+'how'+r[4:])\n"
   ]
  },
  {
   "cell_type": "code",
   "execution_count": null,
   "metadata": {},
   "outputs": [],
   "source": [
    "#to delete sequence of characters in given string\n",
    "s='pyspiders'\n",
    "print(s[:3]+s[6:])"
   ]
  },
  {
   "cell_type": "code",
   "execution_count": 1,
   "metadata": {},
   "outputs": [
    {
     "name": "stdout",
     "output_type": "stream",
     "text": [
      "2556531271296\n",
      "['a', 'b', 1, 2, 3]\n",
      "2556531271104\n",
      "2556531273792\n",
      "['a', 'b', 10, 20, 30]\n",
      "2556531273792\n"
     ]
    }
   ],
   "source": [
    "#to concat the value into the starting of given list\n",
    "l=[1,2,3]\n",
    "print(id(l))\n",
    "l=['a','b']+l\n",
    "print(l)\n",
    "print(id(l))\n",
    "#address is changed\n",
    "#Slicing concept is used so that address is not changed\n",
    "t=[10,20,30]\n",
    "print(id(t))\n",
    "t[0:0]=['a','b']\n",
    "print(t)\n",
    "print(id(t))"
   ]
  },
  {
   "cell_type": "code",
   "execution_count": null,
   "metadata": {},
   "outputs": [],
   "source": []
  }
 ],
 "metadata": {
  "kernelspec": {
   "display_name": "Python 3",
   "language": "python",
   "name": "python3"
  },
  "language_info": {
   "codemirror_mode": {
    "name": "ipython",
    "version": 3
   },
   "file_extension": ".py",
   "mimetype": "text/x-python",
   "name": "python",
   "nbconvert_exporter": "python",
   "pygments_lexer": "ipython3",
   "version": "3.11.4"
  },
  "orig_nbformat": 4
 },
 "nbformat": 4,
 "nbformat_minor": 2
}
