{
 "cells": [
  {
   "cell_type": "code",
   "execution_count": null,
   "metadata": {},
   "outputs": [],
   "source": [
    "# CONDITIONAL STATEMENTS\n",
    "# if condition programs"
   ]
  },
  {
   "cell_type": "code",
   "execution_count": 2,
   "metadata": {},
   "outputs": [
    {
     "name": "stdout",
     "output_type": "stream",
     "text": [
      "the number is positive\n"
     ]
    }
   ],
   "source": [
    "# 1) WAP to check whether a number is positive.If positive print a message positive\n",
    "n=20\n",
    "if n>=0:\n",
    "    print(\"the number is positive\")\n",
    "    "
   ]
  },
  {
   "cell_type": "code",
   "execution_count": 5,
   "metadata": {},
   "outputs": [
    {
     "name": "stdout",
     "output_type": "stream",
     "text": [
      "Hello world\n"
     ]
    }
   ],
   "source": [
    "# 2) WAP to display hello world if the nuber is greater than 1 and lesser than 5\n",
    "n=4\n",
    "if 1<n<5:\n",
    "    print(\"Hello world\")"
   ]
  },
  {
   "cell_type": "code",
   "execution_count": 8,
   "metadata": {},
   "outputs": [
    {
     "name": "stdout",
     "output_type": "stream",
     "text": [
      "fizz\n"
     ]
    }
   ],
   "source": [
    "#3) WAP to check whether the given number is divisble by 3 or not if print fizz\n",
    "n=9\n",
    "if n%3==0:\n",
    "    print(\"fizz\")"
   ]
  },
  {
   "cell_type": "code",
   "execution_count": 9,
   "metadata": {},
   "outputs": [
    {
     "name": "stdout",
     "output_type": "stream",
     "text": [
      "(12+0j)\n"
     ]
    }
   ],
   "source": [
    "# 4) WAP to check whether given input is divisible by 2 and 6. If the condition is satisfied, convert the given number into a complex number. \n",
    "n=12\n",
    "if n%2==0 and n%6==0:\n",
    "    x=complex(n)\n",
    "    print(x)\n"
   ]
  },
  {
   "cell_type": "code",
   "execution_count": 12,
   "metadata": {},
   "outputs": [
    {
     "name": "stdout",
     "output_type": "stream",
     "text": [
      "['3', '0']\n"
     ]
    }
   ],
   "source": [
    "#5) WAP to check whether a given input is divisible by 3 or 5. If the condition is satisfied, the number is converted to a list.\n",
    "n=30\n",
    "if n%3==0 and n%5==0:\n",
    "    a=list(str(n)) # 1st convert the number into string then to the list\n",
    "    print(a)\n",
    "# directly integer cannot be converted to list"
   ]
  },
  {
   "cell_type": "code",
   "execution_count": 18,
   "metadata": {},
   "outputs": [
    {
     "name": "stdout",
     "output_type": "stream",
     "text": [
      "n is multiple of 5\n"
     ]
    }
   ],
   "source": [
    "# Write a program to check whether a given number is multiple of 5 or not\n",
    "n=45\n",
    "if n%10==0 or n%10==5:\n",
    "    print(\"n is multiple of 5\")\n",
    "    "
   ]
  },
  {
   "cell_type": "code",
   "execution_count": 15,
   "metadata": {},
   "outputs": [],
   "source": [
    "# WAP to check whether the given input is 0 or not if 0 prints 0.\n",
    "n=\"False\"\n",
    "if n==0:\n",
    "    print(n)"
   ]
  },
  {
   "cell_type": "code",
   "execution_count": 16,
   "metadata": {},
   "outputs": [
    {
     "name": "stdout",
     "output_type": "stream",
     "text": [
      "n is negative\n"
     ]
    }
   ],
   "source": [
    "# WAP to check whether a number is negative. If negative, print a message negative.\n",
    "n=-10\n",
    "if n<0:\n",
    "    print(\"n is negative\")"
   ]
  },
  {
   "cell_type": "code",
   "execution_count": 33,
   "metadata": {},
   "outputs": [
    {
     "name": "stdout",
     "output_type": "stream",
     "text": [
      "[22, 23, 24, 25, 26]\n"
     ]
    }
   ],
   "source": [
    "# WAP to check whether a number is even or not. If even, store the value inside the list.\n",
    "n=26\n",
    "l=[22,23,24,25]\n",
    "if n%2==0:\n",
    "    l+=[n]\n",
    "    print(l)"
   ]
  },
  {
   "cell_type": "code",
   "execution_count": 32,
   "metadata": {},
   "outputs": [
    {
     "name": "stdout",
     "output_type": "stream",
     "text": [
      "(1, 2, 3, 4, 15)\n"
     ]
    }
   ],
   "source": [
    "# WAP to check whether a number is odd or not. If odd, store the value inside the tuple\n",
    "n=15\n",
    "m=(1,2,3,4)\n",
    "if n%2!=0:\n",
    "    m+=(n,)\n",
    "    print(m)"
   ]
  },
  {
   "cell_type": "code",
   "execution_count": 22,
   "metadata": {},
   "outputs": [
    {
     "name": "stdout",
     "output_type": "stream",
     "text": [
      "7311616\n"
     ]
    }
   ],
   "source": [
    "# WAP to check if the given number is even or not. if it is yes, to print the power of 4 in a given number.\n",
    "n=52\n",
    "if n%2==0:\n",
    "    print(n**4)"
   ]
  },
  {
   "cell_type": "code",
   "execution_count": 24,
   "metadata": {},
   "outputs": [
    {
     "name": "stdout",
     "output_type": "stream",
     "text": [
      "50.2\n"
     ]
    }
   ],
   "source": [
    "# WAP to take the input from the user as a number and check whether it is a number\n",
    "# or not. if yes. take the number and add some value and print it.\n",
    "n=30\n",
    "if type(n) in [int,float,complex,bytes]:\n",
    "    a=n+20\n",
    "    print(a)\n",
    "\n"
   ]
  },
  {
   "cell_type": "code",
   "execution_count": 25,
   "metadata": {},
   "outputs": [
    {
     "name": "stdout",
     "output_type": "stream",
     "text": [
      "hello world\n"
     ]
    }
   ],
   "source": [
    "# WAP to display hello world if the number is greater than 1 and less than 5\n",
    "n=3\n",
    "if 1<n<5:\n",
    "    print(\"hello world\")"
   ]
  },
  {
   "cell_type": "code",
   "execution_count": 26,
   "metadata": {},
   "outputs": [
    {
     "name": "stdout",
     "output_type": "stream",
     "text": [
      "1225\n"
     ]
    }
   ],
   "source": [
    "# WAP to check whether a given value is divisible by 5 and 7. If the value is divisible,to display the square of the values.\n",
    "n=35\n",
    "if n%5==0 and n%7==0:\n",
    "    print(n**2)"
   ]
  },
  {
   "cell_type": "code",
   "execution_count": 29,
   "metadata": {},
   "outputs": [
    {
     "name": "stdout",
     "output_type": "stream",
     "text": [
      "29\n"
     ]
    }
   ],
   "source": [
    "#15) WAP to check whether the given value's last digit is greater than 5 or not.if\n",
    "# greater, to perform the bitwise right shift operator (skipping value is 2)\n",
    "n=117\n",
    "if n%10>5:\n",
    "    a=n>>2 #n n=117 skipping value is 2\n",
    "    print(a)"
   ]
  },
  {
   "cell_type": "code",
   "execution_count": 30,
   "metadata": {},
   "outputs": [
    {
     "name": "stdout",
     "output_type": "stream",
     "text": [
      "729\n"
     ]
    }
   ],
   "source": [
    "# 16) WAP to check whether a given value is divisible by 3 and less than 30. If the value\n",
    "# is divisible,to display the square of the values.\n",
    "n=27\n",
    "if n%3==0:\n",
    "    print(n**2)"
   ]
  },
  {
   "cell_type": "code",
   "execution_count": 31,
   "metadata": {},
   "outputs": [
    {
     "name": "stdout",
     "output_type": "stream",
     "text": [
      "64000\n"
     ]
    }
   ],
   "source": [
    "# 17) WAP to check whether a given value is an even number and divisible by 4. If\n",
    "# satisfied ,to display the cube of the values.\n",
    "n=40\n",
    "if n%2==0 and n%4==0:\n",
    "    print(n**3)"
   ]
  },
  {
   "cell_type": "code",
   "execution_count": 32,
   "metadata": {},
   "outputs": [
    {
     "name": "stdout",
     "output_type": "stream",
     "text": [
      "['1', '5', '9', '4']\n"
     ]
    }
   ],
   "source": [
    "# 18) WAP to check whether a given value is even or not. If the even number stores the\n",
    "# value inside the list.\n",
    "n=1594\n",
    "if n%2==0:\n",
    "    r=list(str(n))\n",
    "    print(r)"
   ]
  },
  {
   "cell_type": "code",
   "execution_count": 4,
   "metadata": {},
   "outputs": [
    {
     "name": "stdout",
     "output_type": "stream",
     "text": [
      "111\n",
      "1\n"
     ]
    }
   ],
   "source": [
    "#19) WAP to check whether a given value is a negative or even number. If satisfied ,to\n",
    "# display the last digit of the values.\n",
    "n= -111\n",
    "if n<0 or n%2==0:\n",
    "    r=n*-1\n",
    "    print(r)\n",
    "    print(r%10)"
   ]
  },
  {
   "cell_type": "code",
   "execution_count": 45,
   "metadata": {},
   "outputs": [
    {
     "name": "stdout",
     "output_type": "stream",
     "text": [
      "-46656\n"
     ]
    }
   ],
   "source": [
    "# 20) WAP to check whether a given value is a negative or odd number and divisible\n",
    "# by 4. If satisfied ,to display the cube of the values.\n",
    "n=-36\n",
    "if n<0 or n%2!=0 and n%4==0:\n",
    "    print(n**3)\n"
   ]
  },
  {
   "cell_type": "code",
   "execution_count": 46,
   "metadata": {},
   "outputs": [
    {
     "name": "stdout",
     "output_type": "stream",
     "text": [
      "D\n"
     ]
    }
   ],
   "source": [
    "# 21) WAP to check whether a given ascii value is divisible by 4 and even value. If\n",
    "# satisfied, to display the ascii character.\n",
    "n=68\n",
    "if n%4==0 and n%2==0:\n",
    "    print(chr(n))"
   ]
  },
  {
   "cell_type": "code",
   "execution_count": 5,
   "metadata": {},
   "outputs": [
    {
     "name": "stdout",
     "output_type": "stream",
     "text": [
      "P\n"
     ]
    }
   ],
   "source": [
    "# 22) WAP to check whether a given value is present in between 45 to 125 and the number should be divisible by \n",
    "# 4 and 5 and even value. If satisfied, to display the ascii character.\n",
    "n=80\n",
    "if 45<n<125 and n%4==0 and n%5==0 and n%2==0:\n",
    "    print(chr(n))"
   ]
  },
  {
   "cell_type": "code",
   "execution_count": 49,
   "metadata": {},
   "outputs": [
    {
     "name": "stdout",
     "output_type": "stream",
     "text": [
      "200\n"
     ]
    }
   ],
   "source": [
    "# 23) WAP to check whether a given value is present in between 25 to 100 and the number should be divisible \n",
    "# by 4 and 5. If satisfied, to display multiplication of given value with 5.\n",
    "n=40\n",
    "if 25<n<100 and n%4==0 and n%5==0:\n",
    "    print(n*5)"
   ]
  },
  {
   "cell_type": "code",
   "execution_count": 50,
   "metadata": {},
   "outputs": [
    {
     "name": "stdout",
     "output_type": "stream",
     "text": [
      "n is divisible by 5\n"
     ]
    }
   ],
   "source": [
    "# 24) WAP to check whether a given number is an integer and odd number. If the condition is satisfied, \n",
    "# the integer is divisible by 5 and displays the result\n",
    "n=25\n",
    "if type(n) in [int] and n%2!=0:\n",
    "    n%5==0\n",
    "    print('n is divisible by 5')"
   ]
  },
  {
   "cell_type": "code",
   "execution_count": 53,
   "metadata": {},
   "outputs": [
    {
     "name": "stdout",
     "output_type": "stream",
     "text": [
      "180\n"
     ]
    }
   ],
   "source": [
    "# 25) WAP to check whether a given value is an integer or not. If integer, the given\n",
    "# value is converted to string and displays the result.\n",
    "n=180\n",
    "if type(n) in [int]:\n",
    "    r=str(n)\n",
    "    print(r)\n"
   ]
  },
  {
   "cell_type": "code",
   "execution_count": 67,
   "metadata": {},
   "outputs": [
    {
     "name": "stdout",
     "output_type": "stream",
     "text": [
      "c\n"
     ]
    }
   ],
   "source": [
    "# 26) WAP to check whether a given value is less than 125 and greater than 60 or not.\n",
    "#If the condition is satisfied, take the name and extract the middle character and display it.\n",
    "n= 80\n",
    "if 60<n<125:\n",
    "    a=\"shinchan\"\n",
    "    print(a[len(a)//2])\n",
    "    "
   ]
  },
  {
   "cell_type": "code",
   "execution_count": 6,
   "metadata": {},
   "outputs": [
    {
     "name": "stdout",
     "output_type": "stream",
     "text": [
      "70\n"
     ]
    }
   ],
   "source": [
    "# 27) WAP to check whether a given two integers are equal or not. If both are equal, to\n",
    "# perform addition and display the result.\n",
    "n=20\n",
    "m=50\n",
    "if type(n)==type(m):\n",
    "    print(n+m)\n"
   ]
  },
  {
   "cell_type": "code",
   "execution_count": 9,
   "metadata": {},
   "outputs": [
    {
     "name": "stdout",
     "output_type": "stream",
     "text": [
      "63\n",
      "True\n"
     ]
    }
   ],
   "source": [
    "# 28) WAP to check whether two values are equal or not. if equal, to perform multiplication of two numbers \n",
    "# and that result is division by 3 and display the value.\n",
    "n=9\n",
    "m=7\n",
    "if type(n)==type(m):\n",
    "    r=n*m\n",
    "    print(r)\n",
    "    r%3==0\n",
    "    print(\"True\")\n"
   ]
  },
  {
   "cell_type": "code",
   "execution_count": 34,
   "metadata": {},
   "outputs": [
    {
     "name": "stdout",
     "output_type": "stream",
     "text": [
      "{'b': 98}\n"
     ]
    }
   ],
   "source": [
    "# 29) WAP to check whether a character is in the alphabet or not. If the alphabet, store\n",
    "# the value inside the dict(key as a character and value as an ascii value).\n",
    "ch='b'\n",
    "if 'a'<=ch<='z' or 'A'<=ch<='Z':\n",
    "    r={ch:ord(ch)}\n",
    "    print(r)"
   ]
  },
  {
   "cell_type": "code",
   "execution_count": 37,
   "metadata": {},
   "outputs": [
    {
     "name": "stdout",
     "output_type": "stream",
     "text": [
      "{'D': 68}\n"
     ]
    }
   ],
   "source": [
    "# 30) WAP to check whether a character is in the uppercase or not. If the uppercase,\n",
    "# store the value inside the dict(key as a character and value as an ascii value).\n",
    "ch='D'\n",
    "if 'A'<=ch<='Z':\n",
    "    p={ch:ord(ch)}\n",
    "    print(p)"
   ]
  },
  {
   "cell_type": "code",
   "execution_count": 9,
   "metadata": {},
   "outputs": [
    {
     "name": "stdout",
     "output_type": "stream",
     "text": [
      "{'e': 101}\n"
     ]
    }
   ],
   "source": [
    "#31) WAP to check whether a character is in the uppercase or not. If the uppercase,\n",
    "# convert to lowercase and store the value inside the dict(character as a key and ascii value as a value).\n",
    "ch='E'\n",
    "if 'A'<=ch<='Z':\n",
    "    r=chr(ord(ch)+32)\n",
    "    ord(r)\n",
    "    print({r:ord(r)})\n",
    "    "
   ]
  },
  {
   "cell_type": "code",
   "execution_count": 3,
   "metadata": {},
   "outputs": [
    {
     "name": "stdout",
     "output_type": "stream",
     "text": [
      "aa\n"
     ]
    }
   ],
   "source": [
    "# 32) WAP to check whether a character is in the lowercase or not. If the lowercase, to\n",
    "# perform the replication operation on that character.\n",
    "ch='a'\n",
    "if 'a'<=ch<='z': \n",
    "    print('a'*2)\n",
    "    \n",
    "\n"
   ]
  },
  {
   "cell_type": "code",
   "execution_count": 2,
   "metadata": {},
   "outputs": [
    {
     "name": "stdout",
     "output_type": "stream",
     "text": [
      "66\n"
     ]
    }
   ],
   "source": [
    "# 33) WAP to check whether a character is in the ascii number or not. If the ascii\n",
    "# number, to convert into integer.\n",
    "ch='B'\n",
    "if 'A'<=ch<='Z' or 'a'<=ch<='z' or '0'<=ch<='9':\n",
    "    r=ord(ch)\n",
    "    s=int(ord(ch))\n",
    "    print(s)\n",
    "\n"
   ]
  },
  {
   "cell_type": "code",
   "execution_count": 12,
   "metadata": {},
   "outputs": [],
   "source": [
    "# 34) WAP to check whether a character is in the special symbol or not. If the special\n",
    "# symbol, to display a symbol with ascii value.\n",
    "ch='#'\n",
    "if ch>='0' and ch<='47' or ch>='58' and ch<='64' or ch>='91' and ch<='96' or ch>='123' and ch<='127' :\n",
    "    print(ord(ch))"
   ]
  },
  {
   "cell_type": "code",
   "execution_count": 14,
   "metadata": {},
   "outputs": [
    {
     "name": "stdout",
     "output_type": "stream",
     "text": [
      "True\n",
      "66\n"
     ]
    }
   ],
   "source": [
    "# 35) WAP to check whether a character is an even number or not. If the even number,\n",
    "# to display an even number.\n",
    "ch='B'\n",
    "if ord(ch)%2==0:\n",
    "    print('True')\n",
    "    print(ord(ch))\n"
   ]
  },
  {
   "cell_type": "code",
   "execution_count": 16,
   "metadata": {},
   "outputs": [
    {
     "name": "stdout",
     "output_type": "stream",
     "text": [
      "100\n"
     ]
    }
   ],
   "source": [
    "# 36) WAP to check whether a Given two integers a and b, if any of the integers is 10\n",
    "# or if their sum is 10, to perform the sum of the numbers and to display the square of the result.\n",
    "a=5\n",
    "b=5\n",
    "if a==10 or b==10 or a+b==10:\n",
    "    s=a+b\n",
    "    r=(a+b)**2\n",
    "    print(r)"
   ]
  },
  {
   "cell_type": "code",
   "execution_count": 18,
   "metadata": {},
   "outputs": [
    {
     "name": "stdout",
     "output_type": "stream",
     "text": [
      "V\n"
     ]
    }
   ],
   "source": [
    "# 37) WAP to check whether a character is in the vowel or not. If the vowel,print the next character.\n",
    "ch='U'\n",
    "if ch in 'AEIOUaeiou':\n",
    "    r=ord(ch)+1\n",
    "    s=chr(ord(ch)+1)\n",
    "    print(s)"
   ]
  },
  {
   "cell_type": "code",
   "execution_count": 19,
   "metadata": {},
   "outputs": [
    {
     "name": "stdout",
     "output_type": "stream",
     "text": [
      "T\n"
     ]
    }
   ],
   "source": [
    "# 38)  WAP to check whether a character is in the not a vowel. If it's not a vowel,print the previous character.\n",
    "ch='U'\n",
    "if ch in 'AEIOUaeiou':\n",
    "    r=ord(ch)-1\n",
    "    s=chr(ord(ch)-1)\n",
    "    print(s)\n"
   ]
  },
  {
   "cell_type": "code",
   "execution_count": 21,
   "metadata": {},
   "outputs": [
    {
     "name": "stdout",
     "output_type": "stream",
     "text": [
      "<class 'int'>\n",
      "ch is a single value data type\n"
     ]
    }
   ],
   "source": [
    "# 39) WAP to check whether a given value is a single value data type or not. If single\n",
    "# value, display the given value as a single value data type.\n",
    "c=10\n",
    "if type(ch) in [int,float,complex,bool,bytes,type(None)]:\n",
    "    print(type(ch))\n",
    "    print('ch is a single value data type')"
   ]
  },
  {
   "cell_type": "code",
   "execution_count": 33,
   "metadata": {},
   "outputs": [
    {
     "name": "stdout",
     "output_type": "stream",
     "text": [
      "('a', 'c', 'Good')\n"
     ]
    }
   ],
   "source": [
    "# 40) WAP to check whether a given value is a multi-value data type or not. If multi\n",
    "# value, store the given value inside the tuple and display it.\n",
    "n={'a':10,'c':20,'Good':'night'}\n",
    "if type(n) in [str,list,tuple,set,dict]:\n",
    "    r=tuple(n)\n",
    "    print(r)\n",
    "    \n",
    "    \n"
   ]
  },
  {
   "cell_type": "code",
   "execution_count": 43,
   "metadata": {},
   "outputs": [
    {
     "name": "stdout",
     "output_type": "stream",
     "text": [
      "{20}\n",
      "{10, 10.5, 20}\n"
     ]
    }
   ],
   "source": [
    "# 41) WAP to check whether a given value is an immutable data type or not. If an\n",
    "# immutable data type value, store the given value inside the set and display it\n",
    "n=(20,)\n",
    "m={10,10.5,20}\n",
    "if type(n) in [int,float,complex,bool,bytes,tuple,set]:\n",
    "    r=set(n) # set cannot store other data types(concatination) only set operation so conver n to set and then concate\n",
    "    print(r)\n",
    "    m|=r\n",
    "    print(m)\n",
    "\n",
    "\n",
    "\n"
   ]
  },
  {
   "cell_type": "code",
   "execution_count": 54,
   "metadata": {},
   "outputs": [
    {
     "name": "stdout",
     "output_type": "stream",
     "text": [
      "middle value is odd\n",
      "35\n"
     ]
    }
   ],
   "source": [
    "# 42) WAP to check whether the middle element of a given list is odd or not. If it is odd\n",
    "# then print odd then print the number else directly print the number\n",
    "l=[10,25,35,40,59]\n",
    "if l[len(l)//2]%2!=0:\n",
    "    print('middle value is odd')\n",
    "    print(l[len(l)//2])\n",
    "    \n"
   ]
  },
  {
   "cell_type": "code",
   "execution_count": 61,
   "metadata": {},
   "outputs": [
    {
     "name": "stdout",
     "output_type": "stream",
     "text": [
      "notapple\n"
     ]
    }
   ],
   "source": [
    "# 43) WAP Return a new string with \"not\" prefixed to the front of the original string.\n",
    "#Return the string unmodified if the string already has the word \"not\" at the beginning.\n",
    "a='apple'\n",
    "n ='not'+a[::1]\n",
    "if a!=n:\n",
    "    print(n)\n",
    "\n",
    "    \n"
   ]
  },
  {
   "cell_type": "code",
   "execution_count": null,
   "metadata": {},
   "outputs": [],
   "source": [
    "# 44) WAP to check whether a given string(str) and one integer(n) value, to display a new string that is\n",
    "# devoid of the character at index n. if you are given a non-empty string and an int n. The value of n will be a \n",
    "# legitimate character index from the original string, therefore it will fall within the range of 0 to len(str)-1, inclusive.\n"
   ]
  },
  {
   "cell_type": "code",
   "execution_count": 57,
   "metadata": {},
   "outputs": [
    {
     "name": "stdout",
     "output_type": "stream",
     "text": [
      "id of both the variables are same\n"
     ]
    }
   ],
   "source": [
    "# 45) WAP to check whether the two variables are pointing to the same memory location or not if \n",
    "# they are pointing to the same memory location then print the address of both the variables.\n",
    "a=10\n",
    "b=10\n",
    "if id(a)==id(b):\n",
    "    print('id of both the variables are same')\n"
   ]
  },
  {
   "cell_type": "code",
   "execution_count": 6,
   "metadata": {},
   "outputs": [
    {
     "name": "stdout",
     "output_type": "stream",
     "text": [
      "G\n"
     ]
    }
   ],
   "source": [
    "# 46) WAP to check whether the given length of the string is even or not. If the condition is satisfied,\n",
    "# display the sequence of characters from zero position to length of collection -2.\n",
    "n='Good'\n",
    "if len(n)%2==0:\n",
    "    r=n[0::-2]\n",
    "    print(r)"
   ]
  },
  {
   "cell_type": "code",
   "execution_count": 9,
   "metadata": {},
   "outputs": [
    {
     "name": "stdout",
     "output_type": "stream",
     "text": [
      "banana\n",
      "apple\n"
     ]
    }
   ],
   "source": [
    "# 47) WAP to check whether the two given strings are having the same values or not. If both are not the same values \n",
    "# then swap the values of one variable to another variable after swapping print the two values\n",
    "p='apple'\n",
    "q='banana'\n",
    "if p==q or p!=q:\n",
    "    p,q=q,p\n",
    "    print(p)\n",
    "    print(q)\n",
    "    "
   ]
  },
  {
   "cell_type": "code",
   "execution_count": 12,
   "metadata": {},
   "outputs": [
    {
     "name": "stdout",
     "output_type": "stream",
     "text": [
      "{'#': 35}\n"
     ]
    }
   ],
   "source": [
    "# 48) WAP to check whether a given character is a special symbol or not. If satisfied,\n",
    "# store the symbol as a key and value as a ascii value of the given character inside the dictionary.\n",
    "n='#'\n",
    "if not('0'<=n<='9' and 'A'<=n<='Z' and 'a'<=n<='z'):\n",
    "    r={n:ord(n)}\n",
    "    print(r)"
   ]
  },
  {
   "cell_type": "code",
   "execution_count": 25,
   "metadata": {},
   "outputs": [
    {
     "name": "stdout",
     "output_type": "stream",
     "text": [
      "{'a': 10, 'b': 20, 'c': 30}\n"
     ]
    }
   ],
   "source": [
    "# 49) WAP to check whether a given key is not present in the dictionary or not. If the key is not present, \n",
    "# append the new key inside the dictionary.\n",
    "r='a'\n",
    "p={'a':10,'b':20,'c':30}\n",
    "if r in p:\n",
    "    a|={'d':40}\n",
    "    print(p)\n"
   ]
  },
  {
   "cell_type": "code",
   "execution_count": 44,
   "metadata": {},
   "outputs": [
    {
     "name": "stdout",
     "output_type": "stream",
     "text": [
      "nhis\n"
     ]
    }
   ],
   "source": [
    "# 50) WAP whether a given string, and it displays a new string with the first and last characters switched.\n",
    "a='shin'\n",
    "if type(a) in [str,list,tuple,set,dict]:\n",
    "   \n",
    "    res=chr(ord(a[-1])) +a[1:len(a)-1]+chr(ord(a[0]))\n",
    "    print(res)\n",
    "\n"
   ]
  },
  {
   "cell_type": "code",
   "execution_count": 40,
   "metadata": {},
   "outputs": [
    {
     "name": "stdout",
     "output_type": "stream",
     "text": [
      "2\n"
     ]
    }
   ],
   "source": [
    "# 51)  WAP to check whether the last digit should be 2 in the given number then print the last digit.\n",
    "n=1056732\n",
    "if n%10==2:\n",
    "    print(n%10)\n"
   ]
  },
  {
   "cell_type": "code",
   "execution_count": 59,
   "metadata": {},
   "outputs": [
    {
     "name": "stdout",
     "output_type": "stream",
     "text": [
      "10000\n"
     ]
    }
   ],
   "source": [
    "# 52) WAP to check whether a Given two integers a and b, if any of the integers is 10 or if their sum is 10,\n",
    "# to perform the sum of the numbers and to display the square of the result.\n",
    "n=10\n",
    "m=90\n",
    "if n==10 or m==10 or m+n==10:\n",
    "    r=n+m\n",
    "    print(r**2)  \n"
   ]
  },
  {
   "cell_type": "code",
   "execution_count": 56,
   "metadata": {},
   "outputs": [
    {
     "name": "stdout",
     "output_type": "stream",
     "text": [
      "pyspider\n",
      "8\n",
      "qjspiders\n",
      "9\n"
     ]
    }
   ],
   "source": [
    "# 53) WAP to check whether both string collections are equal or not if it is not equal print the \n",
    "# both strings along with the length of a string if both are equal ignore it\n",
    "a='pyspider'\n",
    "b='qjspiders'\n",
    "if len(a)!=len(b):\n",
    "    print(a)\n",
    "    print(len(a))\n",
    "    print(b)\n",
    "    print(len(b))"
   ]
  }
 ],
 "metadata": {
  "kernelspec": {
   "display_name": "Python 3",
   "language": "python",
   "name": "python3"
  },
  "language_info": {
   "codemirror_mode": {
    "name": "ipython",
    "version": 3
   },
   "file_extension": ".py",
   "mimetype": "text/x-python",
   "name": "python",
   "nbconvert_exporter": "python",
   "pygments_lexer": "ipython3",
   "version": "3.11.4"
  },
  "orig_nbformat": 4
 },
 "nbformat": 4,
 "nbformat_minor": 2
}
