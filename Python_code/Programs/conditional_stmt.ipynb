{
 "cells": [
  {
   "cell_type": "code",
   "execution_count": null,
   "metadata": {},
   "outputs": [],
   "source": [
    "# CONDITIONAL STATEMENTS\n",
    "# if condition programs"
   ]
  },
  {
   "cell_type": "code",
   "execution_count": 2,
   "metadata": {},
   "outputs": [
    {
     "name": "stdout",
     "output_type": "stream",
     "text": [
      "the number is positive\n"
     ]
    }
   ],
   "source": [
    "# 1) WAP to check whether a number is positive.If positive print a message positive\n",
    "n=20\n",
    "if n>=0:\n",
    "    print(\"the number is positive\")\n",
    "    "
   ]
  },
  {
   "cell_type": "code",
   "execution_count": 5,
   "metadata": {},
   "outputs": [
    {
     "name": "stdout",
     "output_type": "stream",
     "text": [
      "Hello world\n"
     ]
    }
   ],
   "source": [
    "# 2) WAP to display hello world if the nuber is greater than 1 and lesser than 5\n",
    "n=4\n",
    "if 1<n<5:\n",
    "    print(\"Hello world\")"
   ]
  },
  {
   "cell_type": "code",
   "execution_count": 8,
   "metadata": {},
   "outputs": [
    {
     "name": "stdout",
     "output_type": "stream",
     "text": [
      "fizz\n"
     ]
    }
   ],
   "source": [
    "#3) WAP to check whether the given number is divisble by 3 or not if print fizz\n",
    "n=9\n",
    "if n%3==0:\n",
    "    print(\"fizz\")"
   ]
  },
  {
   "cell_type": "code",
   "execution_count": 9,
   "metadata": {},
   "outputs": [
    {
     "name": "stdout",
     "output_type": "stream",
     "text": [
      "(12+0j)\n"
     ]
    }
   ],
   "source": [
    "# 4) WAP to check whether given input is divisible by 2 and 6. If the condition is satisfied, convert the given number into a complex number. \n",
    "n=12\n",
    "if n%2==0 and n%6==0:\n",
    "    x=complex(n)\n",
    "    print(x)\n"
   ]
  },
  {
   "cell_type": "code",
   "execution_count": 12,
   "metadata": {},
   "outputs": [
    {
     "name": "stdout",
     "output_type": "stream",
     "text": [
      "['3', '0']\n"
     ]
    }
   ],
   "source": [
    "#5) WAP to check whether a given input is divisible by 3 or 5. If the condition is satisfied, the number is converted to a list.\n",
    "n=30\n",
    "if n%3==0 and n%5==0:\n",
    "    a=list(str(n)) # 1st convert the number into string then to the list\n",
    "    print(a)\n",
    "# directly integer cannot be converted to list"
   ]
  },
  {
   "cell_type": "code",
   "execution_count": 18,
   "metadata": {},
   "outputs": [
    {
     "name": "stdout",
     "output_type": "stream",
     "text": [
      "n is multiple of 5\n"
     ]
    }
   ],
   "source": [
    "# Write a program to check whether a given number is multiple of 5 or not\n",
    "n=45\n",
    "if n%10==0 or n%10==5:\n",
    "    print(\"n is multiple of 5\")\n",
    "    "
   ]
  },
  {
   "cell_type": "code",
   "execution_count": 15,
   "metadata": {},
   "outputs": [],
   "source": [
    "# WAP to check whether the given input is 0 or not if 0 prints 0.\n",
    "n=\"False\"\n",
    "if n==0:\n",
    "    print(n)"
   ]
  },
  {
   "cell_type": "code",
   "execution_count": 16,
   "metadata": {},
   "outputs": [
    {
     "name": "stdout",
     "output_type": "stream",
     "text": [
      "n is negative\n"
     ]
    }
   ],
   "source": [
    "# WAP to check whether a number is negative. If negative, print a message negative.\n",
    "n=-10\n",
    "if n<0:\n",
    "    print(\"n is negative\")"
   ]
  },
  {
   "cell_type": "code",
   "execution_count": 33,
   "metadata": {},
   "outputs": [
    {
     "name": "stdout",
     "output_type": "stream",
     "text": [
      "[22, 23, 24, 25, 26]\n"
     ]
    }
   ],
   "source": [
    "# WAP to check whether a number is even or not. If even, store the value inside the list.\n",
    "n=26\n",
    "l=[22,23,24,25]\n",
    "if n%2==0:\n",
    "    l+=[n]\n",
    "    print(l)"
   ]
  },
  {
   "cell_type": "code",
   "execution_count": 32,
   "metadata": {},
   "outputs": [
    {
     "name": "stdout",
     "output_type": "stream",
     "text": [
      "(1, 2, 3, 4, 15)\n"
     ]
    }
   ],
   "source": [
    "# WAP to check whether a number is odd or not. If odd, store the value inside the tuple\n",
    "n=15\n",
    "m=(1,2,3,4)\n",
    "if n%2!=0:\n",
    "    m+=(n,)\n",
    "    print(m)"
   ]
  },
  {
   "cell_type": "code",
   "execution_count": 22,
   "metadata": {},
   "outputs": [
    {
     "name": "stdout",
     "output_type": "stream",
     "text": [
      "7311616\n"
     ]
    }
   ],
   "source": [
    "# WAP to check if the given number is even or not. if it is yes, to print the power of 4 in a given number.\n",
    "n=52\n",
    "if n%2==0:\n",
    "    print(n**4)"
   ]
  },
  {
   "cell_type": "code",
   "execution_count": 24,
   "metadata": {},
   "outputs": [
    {
     "name": "stdout",
     "output_type": "stream",
     "text": [
      "50.2\n"
     ]
    }
   ],
   "source": [
    "# WAP to take the input from the user as a number and check whether it is a number\n",
    "# or not. if yes. take the number and add some value and print it.\n",
    "n=30\n",
    "if type(n) in [int,float,complex,bytes]:\n",
    "    a=n+20\n",
    "    print(a)\n",
    "\n"
   ]
  },
  {
   "cell_type": "code",
   "execution_count": 25,
   "metadata": {},
   "outputs": [
    {
     "name": "stdout",
     "output_type": "stream",
     "text": [
      "hello world\n"
     ]
    }
   ],
   "source": [
    "# WAP to display hello world if the number is greater than 1 and less than 5\n",
    "n=3\n",
    "if 1<n<5:\n",
    "    print(\"hello world\")"
   ]
  },
  {
   "cell_type": "code",
   "execution_count": 26,
   "metadata": {},
   "outputs": [
    {
     "name": "stdout",
     "output_type": "stream",
     "text": [
      "1225\n"
     ]
    }
   ],
   "source": [
    "# WAP to check whether a given value is divisible by 5 and 7. If the value is divisible,to display the square of the values.\n",
    "n=35\n",
    "if n%5==0 and n%7==0:\n",
    "    print(n**2)"
   ]
  },
  {
   "cell_type": "code",
   "execution_count": 29,
   "metadata": {},
   "outputs": [
    {
     "name": "stdout",
     "output_type": "stream",
     "text": [
      "29\n"
     ]
    }
   ],
   "source": [
    "#15) WAP to check whether the given value's last digit is greater than 5 or not.if\n",
    "# greater, to perform the bitwise right shift operator (skipping value is 2)\n",
    "n=117\n",
    "if n%10>5:\n",
    "    a=n>>2 #n n=117 skipping value is 2\n",
    "    print(a)"
   ]
  },
  {
   "cell_type": "code",
   "execution_count": 30,
   "metadata": {},
   "outputs": [
    {
     "name": "stdout",
     "output_type": "stream",
     "text": [
      "729\n"
     ]
    }
   ],
   "source": [
    "# 16) WAP to check whether a given value is divisible by 3 and less than 30. If the value\n",
    "# is divisible,to display the square of the values.\n",
    "n=27\n",
    "if n%3==0:\n",
    "    print(n**2)"
   ]
  },
  {
   "cell_type": "code",
   "execution_count": 31,
   "metadata": {},
   "outputs": [
    {
     "name": "stdout",
     "output_type": "stream",
     "text": [
      "64000\n"
     ]
    }
   ],
   "source": [
    "# 17) WAP to check whether a given value is an even number and divisible by 4. If\n",
    "# satisfied ,to display the cube of the values.\n",
    "n=40\n",
    "if n%2==0 and n%4==0:\n",
    "    print(n**3)"
   ]
  },
  {
   "cell_type": "code",
   "execution_count": 32,
   "metadata": {},
   "outputs": [
    {
     "name": "stdout",
     "output_type": "stream",
     "text": [
      "['1', '5', '9', '4']\n"
     ]
    }
   ],
   "source": [
    "# 18) WAP to check whether a given value is even or not. If the even number stores the\n",
    "# value inside the list.\n",
    "n=1594\n",
    "if n%2==0:\n",
    "    r=list(str(n))\n",
    "    print(r)"
   ]
  },
  {
   "cell_type": "code",
   "execution_count": 4,
   "metadata": {},
   "outputs": [
    {
     "name": "stdout",
     "output_type": "stream",
     "text": [
      "111\n",
      "1\n"
     ]
    }
   ],
   "source": [
    "#19) WAP to check whether a given value is a negative or even number. If satisfied ,to\n",
    "# display the last digit of the values.\n",
    "n= -111\n",
    "if n<0 or n%2==0:\n",
    "    r=n*-1\n",
    "    print(r)\n",
    "    print(r%10)"
   ]
  },
  {
   "cell_type": "code",
   "execution_count": 45,
   "metadata": {},
   "outputs": [
    {
     "name": "stdout",
     "output_type": "stream",
     "text": [
      "-46656\n"
     ]
    }
   ],
   "source": [
    "# 20) WAP to check whether a given value is a negative or odd number and divisible\n",
    "# by 4. If satisfied ,to display the cube of the values.\n",
    "n=-36\n",
    "if n<0 or n%2!=0 and n%4==0:\n",
    "    print(n**3)\n"
   ]
  },
  {
   "cell_type": "code",
   "execution_count": 46,
   "metadata": {},
   "outputs": [
    {
     "name": "stdout",
     "output_type": "stream",
     "text": [
      "D\n"
     ]
    }
   ],
   "source": [
    "# 21) WAP to check whether a given ascii value is divisible by 4 and even value. If\n",
    "# satisfied, to display the ascii character.\n",
    "n=68\n",
    "if n%4==0 and n%2==0:\n",
    "    print(chr(n))"
   ]
  },
  {
   "cell_type": "code",
   "execution_count": 5,
   "metadata": {},
   "outputs": [
    {
     "name": "stdout",
     "output_type": "stream",
     "text": [
      "P\n"
     ]
    }
   ],
   "source": [
    "# 22) WAP to check whether a given value is present in between 45 to 125 and the number should be divisible by \n",
    "# 4 and 5 and even value. If satisfied, to display the ascii character.\n",
    "n=80\n",
    "if 45<n<125 and n%4==0 and n%5==0 and n%2==0:\n",
    "    print(chr(n))"
   ]
  },
  {
   "cell_type": "code",
   "execution_count": 49,
   "metadata": {},
   "outputs": [
    {
     "name": "stdout",
     "output_type": "stream",
     "text": [
      "200\n"
     ]
    }
   ],
   "source": [
    "# 23) WAP to check whether a given value is present in between 25 to 100 and the number should be divisible \n",
    "# by 4 and 5. If satisfied, to display multiplication of given value with 5.\n",
    "n=40\n",
    "if 25<n<100 and n%4==0 and n%5==0:\n",
    "    print(n*5)"
   ]
  },
  {
   "cell_type": "code",
   "execution_count": 50,
   "metadata": {},
   "outputs": [
    {
     "name": "stdout",
     "output_type": "stream",
     "text": [
      "n is divisible by 5\n"
     ]
    }
   ],
   "source": [
    "# 24) WAP to check whether a given number is an integer and odd number. If the condition is satisfied, \n",
    "# the integer is divisible by 5 and displays the result\n",
    "n=25\n",
    "if type(n) in [int] and n%2!=0:\n",
    "    n%5==0\n",
    "    print('n is divisible by 5')"
   ]
  },
  {
   "cell_type": "code",
   "execution_count": 53,
   "metadata": {},
   "outputs": [
    {
     "name": "stdout",
     "output_type": "stream",
     "text": [
      "180\n"
     ]
    }
   ],
   "source": [
    "# 25) WAP to check whether a given value is an integer or not. If integer, the given\n",
    "# value is converted to string and displays the result.\n",
    "n=180\n",
    "if type(n) in [int]:\n",
    "    r=str(n)\n",
    "    print(r)\n"
   ]
  },
  {
   "cell_type": "code",
   "execution_count": 67,
   "metadata": {},
   "outputs": [
    {
     "name": "stdout",
     "output_type": "stream",
     "text": [
      "c\n"
     ]
    }
   ],
   "source": [
    "# 26) WAP to check whether a given value is less than 125 and greater than 60 or not.\n",
    "#If the condition is satisfied, take the name and extract the middle character and display it.\n",
    "n= 80\n",
    "if 60<n<125:\n",
    "    a=\"shinchan\"\n",
    "    print(a[len(a)//2])\n",
    "    "
   ]
  },
  {
   "cell_type": "code",
   "execution_count": 6,
   "metadata": {},
   "outputs": [
    {
     "name": "stdout",
     "output_type": "stream",
     "text": [
      "70\n"
     ]
    }
   ],
   "source": [
    "# 27) WAP to check whether a given two integers are equal or not. If both are equal, to\n",
    "# perform addition and display the result.\n",
    "n=20\n",
    "m=50\n",
    "if type(n)==type(m):\n",
    "    print(n+m)\n"
   ]
  },
  {
   "cell_type": "code",
   "execution_count": 9,
   "metadata": {},
   "outputs": [
    {
     "name": "stdout",
     "output_type": "stream",
     "text": [
      "63\n",
      "True\n"
     ]
    }
   ],
   "source": [
    "# 28) WAP to check whether two values are equal or not. if equal, to perform multiplication of two numbers \n",
    "# and that result is division by 3 and display the value.\n",
    "n=9\n",
    "m=7\n",
    "if type(n)==type(m):\n",
    "    r=n*m\n",
    "    print(r)\n",
    "    r%3==0\n",
    "    print(\"True\")\n"
   ]
  },
  {
   "cell_type": "code",
   "execution_count": 34,
   "metadata": {},
   "outputs": [
    {
     "name": "stdout",
     "output_type": "stream",
     "text": [
      "{'b': 98}\n"
     ]
    }
   ],
   "source": [
    "# 29) WAP to check whether a character is in the alphabet or not. If the alphabet, store\n",
    "# the value inside the dict(key as a character and value as an ascii value).\n",
    "ch='b'\n",
    "if 'a'<=ch<='z' or 'A'<=ch<='Z':\n",
    "    r={ch:ord(ch)}\n",
    "    print(r)"
   ]
  },
  {
   "cell_type": "code",
   "execution_count": 37,
   "metadata": {},
   "outputs": [
    {
     "name": "stdout",
     "output_type": "stream",
     "text": [
      "{'D': 68}\n"
     ]
    }
   ],
   "source": [
    "# 30) WAP to check whether a character is in the uppercase or not. If the uppercase,\n",
    "# store the value inside the dict(key as a character and value as an ascii value).\n",
    "ch='D'\n",
    "if 'A'<=ch<='Z':\n",
    "    p={ch:ord(ch)}\n",
    "    print(p)"
   ]
  },
  {
   "cell_type": "code",
   "execution_count": 9,
   "metadata": {},
   "outputs": [
    {
     "name": "stdout",
     "output_type": "stream",
     "text": [
      "{'e': 101}\n"
     ]
    }
   ],
   "source": [
    "#31) WAP to check whether a character is in the uppercase or not. If the uppercase,\n",
    "# convert to lowercase and store the value inside the dict(character as a key and ascii value as a value).\n",
    "ch='E'\n",
    "if 'A'<=ch<='Z':\n",
    "    r=chr(ord(ch)+32)\n",
    "    ord(r)\n",
    "    print({r:ord(r)})\n",
    "    "
   ]
  },
  {
   "cell_type": "code",
   "execution_count": 3,
   "metadata": {},
   "outputs": [
    {
     "name": "stdout",
     "output_type": "stream",
     "text": [
      "aa\n"
     ]
    }
   ],
   "source": [
    "# 32) WAP to check whether a character is in the lowercase or not. If the lowercase, to\n",
    "# perform the replication operation on that character.\n",
    "ch='a'\n",
    "if 'a'<=ch<='z': \n",
    "    print('a'*2)\n",
    "    \n",
    "\n"
   ]
  },
  {
   "cell_type": "code",
   "execution_count": 2,
   "metadata": {},
   "outputs": [
    {
     "name": "stdout",
     "output_type": "stream",
     "text": [
      "66\n"
     ]
    }
   ],
   "source": [
    "# 33) WAP to check whether a character is in the ascii number or not. If the ascii\n",
    "# number, to convert into integer.\n",
    "ch='B'\n",
    "if 'A'<=ch<='Z' or 'a'<=ch<='z' or '0'<=ch<='9':\n",
    "    r=ord(ch)\n",
    "    s=int(ord(ch))\n",
    "    print(s)\n",
    "\n"
   ]
  },
  {
   "cell_type": "code",
   "execution_count": 12,
   "metadata": {},
   "outputs": [],
   "source": [
    "# 34) WAP to check whether a character is in the special symbol or not. If the special\n",
    "# symbol, to display a symbol with ascii value.\n",
    "ch='#'\n",
    "if ch>='0' and ch<='47' or ch>='58' and ch<='64' or ch>='91' and ch<='96' or ch>='123' and ch<='127' :\n",
    "    print(ord(ch))"
   ]
  },
  {
   "cell_type": "code",
   "execution_count": 14,
   "metadata": {},
   "outputs": [
    {
     "name": "stdout",
     "output_type": "stream",
     "text": [
      "True\n",
      "66\n"
     ]
    }
   ],
   "source": [
    "# 35) WAP to check whether a character is an even number or not. If the even number,\n",
    "# to display an even number.\n",
    "ch='B'\n",
    "if ord(ch)%2==0:\n",
    "    print('True')\n",
    "    print(ord(ch))\n"
   ]
  },
  {
   "cell_type": "code",
   "execution_count": 16,
   "metadata": {},
   "outputs": [
    {
     "name": "stdout",
     "output_type": "stream",
     "text": [
      "100\n"
     ]
    }
   ],
   "source": [
    "# 36) WAP to check whether a Given two integers a and b, if any of the integers is 10\n",
    "# or if their sum is 10, to perform the sum of the numbers and to display the square of the result.\n",
    "a=5\n",
    "b=5\n",
    "if a==10 or b==10 or a+b==10:\n",
    "    s=a+b\n",
    "    r=(a+b)**2\n",
    "    print(r)"
   ]
  },
  {
   "cell_type": "code",
   "execution_count": 18,
   "metadata": {},
   "outputs": [
    {
     "name": "stdout",
     "output_type": "stream",
     "text": [
      "V\n"
     ]
    }
   ],
   "source": [
    "# 37) WAP to check whether a character is in the vowel or not. If the vowel,print the next character.\n",
    "ch='U'\n",
    "if ch in 'AEIOUaeiou':\n",
    "    r=ord(ch)+1\n",
    "    s=chr(ord(ch)+1)\n",
    "    print(s)"
   ]
  },
  {
   "cell_type": "code",
   "execution_count": 19,
   "metadata": {},
   "outputs": [
    {
     "name": "stdout",
     "output_type": "stream",
     "text": [
      "T\n"
     ]
    }
   ],
   "source": [
    "# 38)  WAP to check whether a character is in the not a vowel. If it's not a vowel,print the previous character.\n",
    "ch='U'\n",
    "if ch in 'AEIOUaeiou':\n",
    "    r=ord(ch)-1\n",
    "    s=chr(ord(ch)-1)\n",
    "    print(s)\n"
   ]
  },
  {
   "cell_type": "code",
   "execution_count": 21,
   "metadata": {},
   "outputs": [
    {
     "name": "stdout",
     "output_type": "stream",
     "text": [
      "<class 'int'>\n",
      "ch is a single value data type\n"
     ]
    }
   ],
   "source": [
    "# 39) WAP to check whether a given value is a single value data type or not. If single\n",
    "# value, display the given value as a single value data type.\n",
    "c=10\n",
    "if type(ch) in [int,float,complex,bool,bytes,type(None)]:\n",
    "    print(type(ch))\n",
    "    print('ch is a single value data type')"
   ]
  },
  {
   "cell_type": "code",
   "execution_count": 33,
   "metadata": {},
   "outputs": [
    {
     "name": "stdout",
     "output_type": "stream",
     "text": [
      "('a', 'c', 'Good')\n"
     ]
    }
   ],
   "source": [
    "# 40) WAP to check whether a given value is a multi-value data type or not. If multi\n",
    "# value, store the given value inside the tuple and display it.\n",
    "n={'a':10,'c':20,'Good':'night'}\n",
    "if type(n) in [str,list,tuple,set,dict]:\n",
    "    r=tuple(n)\n",
    "    print(r)\n",
    "    \n",
    "    \n"
   ]
  },
  {
   "cell_type": "code",
   "execution_count": 43,
   "metadata": {},
   "outputs": [
    {
     "name": "stdout",
     "output_type": "stream",
     "text": [
      "{20}\n",
      "{10, 10.5, 20}\n"
     ]
    }
   ],
   "source": [
    "# 41) WAP to check whether a given value is an immutable data type or not. If an\n",
    "# immutable data type value, store the given value inside the set and display it\n",
    "n=(20,)\n",
    "m={10,10.5,20}\n",
    "if type(n) in [int,float,complex,bool,bytes,tuple,set]:\n",
    "    r=set(n) # set cannot store other data types(concatination) only set operation so conver n to set and then concate\n",
    "    print(r)\n",
    "    m|=r\n",
    "    print(m)\n",
    "\n",
    "\n",
    "\n"
   ]
  },
  {
   "cell_type": "code",
   "execution_count": 54,
   "metadata": {},
   "outputs": [
    {
     "name": "stdout",
     "output_type": "stream",
     "text": [
      "middle value is odd\n",
      "35\n"
     ]
    }
   ],
   "source": [
    "# 42) WAP to check whether the middle element of a given list is odd or not. If it is odd\n",
    "# then print odd then print the number else directly print the number\n",
    "l=[10,25,35,40,59]\n",
    "if l[len(l)//2]%2!=0:\n",
    "    print('middle value is odd')\n",
    "    print(l[len(l)//2])\n",
    "    \n"
   ]
  },
  {
   "cell_type": "code",
   "execution_count": 61,
   "metadata": {},
   "outputs": [
    {
     "name": "stdout",
     "output_type": "stream",
     "text": [
      "notapple\n"
     ]
    }
   ],
   "source": [
    "# 43) WAP Return a new string with \"not\" prefixed to the front of the original string.\n",
    "#Return the string unmodified if the string already has the word \"not\" at the beginning.\n",
    "a='apple'\n",
    "n ='not'+a[::1]\n",
    "if a!=n:\n",
    "    print(n)\n",
    "\n",
    "    \n"
   ]
  },
  {
   "cell_type": "code",
   "execution_count": null,
   "metadata": {},
   "outputs": [],
   "source": [
    "# 44) WAP to check whether a given string(str) and one integer(n) value, to display a new string that is\n",
    "# devoid of the character at index n. if you are given a non-empty string and an int n. The value of n will be a \n",
    "# legitimate character index from the original string, therefore it will fall within the range of 0 to len(str)-1, inclusive.\n"
   ]
  },
  {
   "cell_type": "code",
   "execution_count": 57,
   "metadata": {},
   "outputs": [
    {
     "name": "stdout",
     "output_type": "stream",
     "text": [
      "id of both the variables are same\n"
     ]
    }
   ],
   "source": [
    "# 45) WAP to check whether the two variables are pointing to the same memory location or not if \n",
    "# they are pointing to the same memory location then print the address of both the variables.\n",
    "a=10\n",
    "b=10\n",
    "if id(a)==id(b):\n",
    "    print('id of both the variables are same')\n"
   ]
  },
  {
   "cell_type": "code",
   "execution_count": 6,
   "metadata": {},
   "outputs": [
    {
     "name": "stdout",
     "output_type": "stream",
     "text": [
      "G\n"
     ]
    }
   ],
   "source": [
    "# 46) WAP to check whether the given length of the string is even or not. If the condition is satisfied,\n",
    "# display the sequence of characters from zero position to length of collection -2.\n",
    "n='Good'\n",
    "if len(n)%2==0:\n",
    "    r=n[0::-2]\n",
    "    print(r)"
   ]
  },
  {
   "cell_type": "code",
   "execution_count": 9,
   "metadata": {},
   "outputs": [
    {
     "name": "stdout",
     "output_type": "stream",
     "text": [
      "banana\n",
      "apple\n"
     ]
    }
   ],
   "source": [
    "# 47) WAP to check whether the two given strings are having the same values or not. If both are not the same values \n",
    "# then swap the values of one variable to another variable after swapping print the two values\n",
    "p='apple'\n",
    "q='banana'\n",
    "if p==q or p!=q:\n",
    "    p,q=q,p\n",
    "    print(p)\n",
    "    print(q)\n",
    "    "
   ]
  },
  {
   "cell_type": "code",
   "execution_count": 12,
   "metadata": {},
   "outputs": [
    {
     "name": "stdout",
     "output_type": "stream",
     "text": [
      "{'#': 35}\n"
     ]
    }
   ],
   "source": [
    "# 48) WAP to check whether a given character is a special symbol or not. If satisfied,\n",
    "# store the symbol as a key and value as a ascii value of the given character inside the dictionary.\n",
    "n='#'\n",
    "if not('0'<=n<='9' and 'A'<=n<='Z' and 'a'<=n<='z'):\n",
    "    r={n:ord(n)}\n",
    "    print(r)"
   ]
  },
  {
   "cell_type": "code",
   "execution_count": 25,
   "metadata": {},
   "outputs": [
    {
     "name": "stdout",
     "output_type": "stream",
     "text": [
      "{'a': 10, 'b': 20, 'c': 30}\n"
     ]
    }
   ],
   "source": [
    "# 49) WAP to check whether a given key is not present in the dictionary or not. If the key is not present, \n",
    "# append the new key inside the dictionary.\n",
    "r='a'\n",
    "p={'a':10,'b':20,'c':30}\n",
    "if r in p:\n",
    "    a|={'d':40}\n",
    "    print(p)\n"
   ]
  },
  {
   "cell_type": "code",
   "execution_count": 44,
   "metadata": {},
   "outputs": [
    {
     "name": "stdout",
     "output_type": "stream",
     "text": [
      "nhis\n"
     ]
    }
   ],
   "source": [
    "# 50) WAP whether a given string, and it displays a new string with the first and last characters switched.\n",
    "a='shin'\n",
    "if type(a) in [str,list,tuple,set,dict]:\n",
    "   \n",
    "    res=chr(ord(a[-1])) +a[1:len(a)-1]+chr(ord(a[0]))\n",
    "    print(res)\n",
    "\n"
   ]
  },
  {
   "cell_type": "code",
   "execution_count": 40,
   "metadata": {},
   "outputs": [
    {
     "name": "stdout",
     "output_type": "stream",
     "text": [
      "2\n"
     ]
    }
   ],
   "source": [
    "# 51)  WAP to check whether the last digit should be 2 in the given number then print the last digit.\n",
    "n=1056732\n",
    "if n%10==2:\n",
    "    print(n%10)\n"
   ]
  },
  {
   "cell_type": "code",
   "execution_count": 59,
   "metadata": {},
   "outputs": [
    {
     "name": "stdout",
     "output_type": "stream",
     "text": [
      "10000\n"
     ]
    }
   ],
   "source": [
    "# 52) WAP to check whether a Given two integers a and b, if any of the integers is 10 or if their sum is 10,\n",
    "# to perform the sum of the numbers and to display the square of the result.\n",
    "n=10\n",
    "m=90\n",
    "if n==10 or m==10 or m+n==10:\n",
    "    r=n+m\n",
    "    print(r**2)  \n"
   ]
  },
  {
   "cell_type": "code",
   "execution_count": 56,
   "metadata": {},
   "outputs": [
    {
     "name": "stdout",
     "output_type": "stream",
     "text": [
      "pyspider\n",
      "8\n",
      "qjspiders\n",
      "9\n"
     ]
    }
   ],
   "source": [
    "# 53) WAP to check whether both string collections are equal or not if it is not equal print the \n",
    "# both strings along with the length of a string if both are equal ignore it\n",
    "a='pyspider'\n",
    "b='qjspiders'\n",
    "if len(a)!=len(b):\n",
    "    print(a)\n",
    "    print(len(a))\n",
    "    print(b)\n",
    "    print(len(b))"
   ]
  },
  {
   "cell_type": "code",
   "execution_count": null,
   "metadata": {},
   "outputs": [],
   "source": [
    "# if else condition:"
   ]
  },
  {
   "cell_type": "code",
   "execution_count": 1,
   "metadata": {},
   "outputs": [
    {
     "name": "stdout",
     "output_type": "stream",
     "text": [
      "n is postive\n"
     ]
    }
   ],
   "source": [
    "# 1) WAP to check whether a number is positive or negative. If Positive print\n",
    "# positivemessage or else print Negative Number\n",
    "n=10\n",
    "if n>=0:\n",
    "    print('n is postive')\n",
    "else:\n",
    "    print('n is negative')\n"
   ]
  },
  {
   "cell_type": "code",
   "execution_count": 3,
   "metadata": {},
   "outputs": [
    {
     "name": "stdout",
     "output_type": "stream",
     "text": [
      "n is odd number\n"
     ]
    }
   ],
   "source": [
    "# 2) WAP to check whether a number is even or odd. If even, print message\n",
    "# an evenor else print message as odd.\n",
    "n=105\n",
    "if n%2==0:\n",
    "    print('n is even number')\n",
    "else:\n",
    "        print('n is odd number')"
   ]
  },
  {
   "cell_type": "code",
   "execution_count": 4,
   "metadata": {},
   "outputs": [
    {
     "name": "stdout",
     "output_type": "stream",
     "text": [
      "n is greater than 10\n"
     ]
    }
   ],
   "source": [
    "# 3) Write a program to check whether a given number is greater than 10 or not. if it is greater than \n",
    "# 10 print message as greater or else print that number with not a greater than\n",
    "n=100\n",
    "if n>10:\n",
    "    print('n is greater than 10')\n",
    "else:\n",
    "    print('n is not greater than 10')\n"
   ]
  },
  {
   "cell_type": "code",
   "execution_count": 5,
   "metadata": {},
   "outputs": [
    {
     "name": "stdout",
     "output_type": "stream",
     "text": [
      "Good Morning\n"
     ]
    }
   ],
   "source": [
    "# 4) WAP to check whether the given two input numbers are divisible by 3 and 5.If it is divisible, \n",
    "# print “Good Morning”, if it is not divisible print “Good Evening”.\n",
    "n=15\n",
    "m=30\n",
    "if n%3==0 and n%5==0 and m%3==0 and m%5==0:\n",
    "    print('Good Morning')\n",
    "else:\n",
    "    print('Good Evening')"
   ]
  },
  {
   "cell_type": "code",
   "execution_count": 6,
   "metadata": {},
   "outputs": [
    {
     "name": "stdout",
     "output_type": "stream",
     "text": [
      "900\n"
     ]
    }
   ],
   "source": [
    "# 5) WAP to accept two integers and check whether those two values are equal\n",
    "# or not.If equal, multiply to value or else to display the quotation value.\n",
    "n=30\n",
    "m=30\n",
    "if n==m:\n",
    "    print(n*m)\n",
    "else:\n",
    "    print()"
   ]
  },
  {
   "cell_type": "code",
   "execution_count": 7,
   "metadata": {},
   "outputs": [
    {
     "name": "stdout",
     "output_type": "stream",
     "text": [
      "m is largest\n"
     ]
    }
   ],
   "source": [
    "# 6) WAP to find the largest of two numbers\n",
    "n=10\n",
    "m=20\n",
    "if n>20:\n",
    "    print('n is largest')\n",
    "else:\n",
    "    print('m is largest')"
   ]
  },
  {
   "cell_type": "code",
   "execution_count": 11,
   "metadata": {},
   "outputs": [
    {
     "name": "stdout",
     "output_type": "stream",
     "text": [
      "200  is greater\n"
     ]
    }
   ],
   "source": [
    "# 7) WAP to check whether the input number is greater than 10 or not if it is \n",
    "# greater than 10 print messages as greater with number. if it is not a greater than 10 print that number\n",
    "n=200\n",
    "if n>10:\n",
    "    print(200,' is greater')\n",
    "else:\n",
    "    print(n)\n"
   ]
  },
  {
   "cell_type": "code",
   "execution_count": 13,
   "metadata": {},
   "outputs": [
    {
     "name": "stdout",
     "output_type": "stream",
     "text": [
      "29\n",
      "40\n"
     ]
    }
   ],
   "source": [
    "# 8. WAP to the given number integer, if n is greater than 21,print the absolute difference \n",
    "# between n and 21 otherwise print twice the absolute difference.\n",
    "n=50\n",
    "if n>21:\n",
    "    print(n-21)\n",
    "else:\n",
    "    print(n*2)\n",
    "n=20\n",
    "if n>21:\n",
    "    print(n-21)\n",
    "else:\n",
    "    print(n*2)"
   ]
  },
  {
   "cell_type": "code",
   "execution_count": 14,
   "metadata": {},
   "outputs": [
    {
     "name": "stdout",
     "output_type": "stream",
     "text": [
      "m is smallest\n"
     ]
    }
   ],
   "source": [
    "# 9) WAP to find the smallest of two numbers\n",
    "n=100\n",
    "m=90\n",
    "if n<m:\n",
    "    print('n is smallest')\n",
    "else:\n",
    "    print('m is smallest')"
   ]
  },
  {
   "cell_type": "code",
   "execution_count": 15,
   "metadata": {},
   "outputs": [
    {
     "name": "stdout",
     "output_type": "stream",
     "text": [
      "1001\n"
     ]
    }
   ],
   "source": [
    "# 10) WAP to check whether the given number is even or odd. If it is even\n",
    "# then makeit as an odd number, if it is an odd number then make it as even number.\n",
    "n=1000\n",
    "if n%2==0:\n",
    "    r=n+1\n",
    "    print(r)\n",
    "\n"
   ]
  },
  {
   "cell_type": "code",
   "execution_count": 17,
   "metadata": {},
   "outputs": [
    {
     "name": "stdout",
     "output_type": "stream",
     "text": [
      "30\n",
      "24389\n"
     ]
    }
   ],
   "source": [
    "# 11) WAP to check whether the given number is divisible by 3 or not if yes,\n",
    "# print the number or else print the cube of the numbers\n",
    "n=30\n",
    "if n%3==0:\n",
    "    print(n)\n",
    "else:\n",
    "    print(n**3)\n",
    "n=29\n",
    "if n%3==0:\n",
    "    print(n)\n",
    "else:\n",
    "    print(n**3)"
   ]
  },
  {
   "cell_type": "code",
   "execution_count": 19,
   "metadata": {},
   "outputs": [
    {
     "name": "stdout",
     "output_type": "stream",
     "text": [
      "15\n",
      "16\n"
     ]
    }
   ],
   "source": [
    "# 12) WAP to check whether the given input is divisible by 3 and 5. If yes\n",
    "# print the actual number or else print string of that number\n",
    "n=15\n",
    "if n%3==0 and n%5==0:\n",
    "    print(n)\n",
    "else:\n",
    "    print(str(n))\n",
    "n=16\n",
    "if n%3==0 and n%5==0:\n",
    "    print(n)\n",
    "else:\n",
    "    print(str(n))\n"
   ]
  },
  {
   "cell_type": "code",
   "execution_count": 22,
   "metadata": {},
   "outputs": [
    {
     "name": "stdout",
     "output_type": "stream",
     "text": [
      "True\n",
      "324\n",
      "8000\n"
     ]
    }
   ],
   "source": [
    "# 13)WAP to check whether the given number lies between 1 to 19, if it is true\n",
    "# square that number or else false cube that number and display the number\n",
    "n=18\n",
    "if 1<=n<=19:\n",
    "    print('True')\n",
    "    print(n**2)\n",
    "else:\n",
    "    print('False')\n",
    "    print(n**3)\n",
    "n=20\n",
    "if 1<=n<=19:\n",
    "    print(n**2)\n",
    "else:\n",
    "    print(n**3)"
   ]
  },
  {
   "cell_type": "code",
   "execution_count": 27,
   "metadata": {},
   "outputs": [
    {
     "name": "stdout",
     "output_type": "stream",
     "text": [
      "PASS\n",
      "95\n"
     ]
    }
   ],
   "source": [
    "# 14) WAP to check whether the student has passed or failed. If the student got \n",
    "# more than 40 marks, print ‘PASS’ along with those marks, if it is not printed ‘FAIL’ alongwith those mark\n",
    "marks=95\n",
    "if marks>40:\n",
    "    print('PASS'),print(marks)\n",
    "else:\n",
    "    print('FAIL'),print(marks)"
   ]
  },
  {
   "cell_type": "code",
   "execution_count": 28,
   "metadata": {},
   "outputs": [
    {
     "name": "stdout",
     "output_type": "stream",
     "text": [
      "4\n"
     ]
    }
   ],
   "source": [
    "# 15) WAP to check whether a given value is even and in range of 47 to 58 and  not in 0 or odd. \n",
    "# if condition is True, to perform display the ascii character.or else to perform floor division with 5 and display it.\n",
    "n=52\n",
    "if n%2==0 and 47<=n<58 and n!=0 or n%2!=0:\n",
    "    print(chr(n))\n",
    "else:\n",
    "    r=(n//5)\n",
    "    print(r)"
   ]
  },
  {
   "cell_type": "code",
   "execution_count": 41,
   "metadata": {},
   "outputs": [
    {
     "name": "stdout",
     "output_type": "stream",
     "text": [
      "{10: 20, 122: 'z'}\n"
     ]
    }
   ],
   "source": [
    "# 16) WAP to check whether a given value is less than 125 and in between 47 to  125 or not. if condition is True, \n",
    "# to perform store the given value as key and  value as a character into the dict or else to append the value in list \n",
    "# and display it\n",
    "n=122\n",
    "d={10:20}\n",
    "l=[10,20,30]\n",
    "if 47<n<125:\n",
    "    a=chr(n)\n",
    "    d[n]=a\n",
    "    print(d)\n",
    "else:\n",
    "    r=l+[n]\n",
    "    print(r)\n",
    "    "
   ]
  },
  {
   "cell_type": "code",
   "execution_count": 3,
   "metadata": {},
   "outputs": [
    {
     "name": "stdout",
     "output_type": "stream",
     "text": [
      "A\n",
      "ch is an alphabet\n"
     ]
    }
   ],
   "source": [
    "# 17) WAP to check whether a given character is in the alphabet or not. if  alphabet, display the \n",
    "# alphabet with character or else display the not alphabet withcharacter\n",
    "ch='A'\n",
    "if 'a'<=ch<='z' or 'A'<=ch<='Z':\n",
    "    print(ch) \n",
    "    print('ch is an alphabet')\n",
    "else:\n",
    "    print(ch)\n",
    "    print('ch is not an alphabet')\n"
   ]
  },
  {
   "cell_type": "code",
   "execution_count": 4,
   "metadata": {},
   "outputs": [
    {
     "name": "stdout",
     "output_type": "stream",
     "text": [
      "D\n",
      "ch is an upper case\n"
     ]
    }
   ],
   "source": [
    "# 18) WAP to check whether a given character is uppercase or other character. \n",
    "# if uppercase, display the uppercase with character or else display the othercharacter with character\n",
    "ch='D'\n",
    "if 'A'<=ch<='Z':\n",
    "    print(ch)\n",
    "    print('ch is an upper case')\n",
    "else:\n",
    "    print(ch)\n",
    "    print('ch is not an upper case')"
   ]
  },
  {
   "cell_type": "code",
   "execution_count": 5,
   "metadata": {},
   "outputs": [
    {
     "name": "stdout",
     "output_type": "stream",
     "text": [
      "t\n",
      "ch is a lower case\n"
     ]
    }
   ],
   "source": [
    "# 19) WAP to check whether a given character is lowercase or other character. \n",
    "# if lowercase, display the lowercase with character or else display the other character with character\n",
    "ch='t'\n",
    "if 'a'<=ch<='z':\n",
    "    print(ch)\n",
    "    print('ch is a lower case')\n",
    "else:\n",
    "    print(ch)\n",
    "    print('ch is not a lower case')"
   ]
  },
  {
   "cell_type": "code",
   "execution_count": 25,
   "metadata": {},
   "outputs": [
    {
     "name": "stdout",
     "output_type": "stream",
     "text": [
      "g\n"
     ]
    }
   ],
   "source": [
    "#20) WAP to check whether a given character is uppercase or other character. \n",
    "# if uppercase, convert to lowercase .or else display the ascii number.\n",
    "ch='G'\n",
    "if 'A'<=ch<='Z' or 'a'<=ch<='z':\n",
    "    print(chr(ord(ch)+32))\n",
    "else:\n",
    "    print(ord(ch))\n",
    "    "
   ]
  },
  {
   "cell_type": "code",
   "execution_count": 30,
   "metadata": {},
   "outputs": [
    {
     "name": "stdout",
     "output_type": "stream",
     "text": [
      "d\n"
     ]
    }
   ],
   "source": [
    "# 21) WAP to check whether the given character is in lowercase or uppercase. If it isin lowercase, \n",
    "# convert it into uppercase, or else it is in uppercase and convert itinto lowercase. Display the value\n",
    "ch='D'\n",
    "if 'A'<=ch<='Z' or 'a'<=ch<='z':\n",
    "    r=chr(ord(ch)+32)\n",
    "    print(r)\n",
    "else:\n",
    "    s=chr(ord(ch)-32)\n",
    "    print(s)\n",
    "    \n",
    "\n"
   ]
  },
  {
   "cell_type": "code",
   "execution_count": 47,
   "metadata": {},
   "outputs": [
    {
     "name": "stdout",
     "output_type": "stream",
     "text": [
      "i\n"
     ]
    }
   ],
   "source": [
    "# 22) WAP to check whether the given string of the first character is a special symbol or not.\n",
    "# If a special symbol, to extract and display the middle character or else to reverse the string \n",
    "# and display the half of the string\n",
    "ch='$smile'\n",
    "if not('A'<=ch[0]<='Z'and'a'<=ch[0]<='z' and '0'<=ch[0]<='9'):\n",
    "    r=ch[len(ch)//2]\n",
    "    print(r)\n",
    "else:\n",
    "    s=ch[-1:len(ch)//2-1:-1]\n",
    "    print(s)\n",
    "\n",
    "\n",
    "    \n"
   ]
  },
  {
   "cell_type": "code",
   "execution_count": 61,
   "metadata": {},
   "outputs": [
    {
     "name": "stdout",
     "output_type": "stream",
     "text": [
      "U\n",
      "ch is vowel\n"
     ]
    }
   ],
   "source": [
    "# 23) WAP to check whether the input character is a vowel or not. If it is vowel print‘VOWEL’ \n",
    "# along with that character, if it is not just print‘CONSONANT’.\n",
    "ch='U'\n",
    "if ch in 'AEIOUaeiou':\n",
    "    print(ch)\n",
    "    print('ch is vowel')\n",
    "else:\n",
    "    print('ch is consonant')\n",
    "\n",
    "\n"
   ]
  },
  {
   "cell_type": "code",
   "execution_count": 69,
   "metadata": {},
   "outputs": [
    {
     "name": "stdout",
     "output_type": "stream",
     "text": [
      "P\n"
     ]
    }
   ],
   "source": [
    "# 24) WAP to check whether a given character is a vowel or consonant. if vowel, toprint the next \n",
    "#character of a given character or else print previous characters.\n",
    "ch='O'\n",
    "if ch in 'AEIOUaeiou' or ch not in 'AEIOUaeiou':\n",
    "    r=(chr(ord(ch)+1))\n",
    "    print(r)\n",
    "else:\n",
    "    s=(chr(ord(ch)-1))\n",
    "    print(s)"
   ]
  },
  {
   "cell_type": "code",
   "execution_count": 73,
   "metadata": {},
   "outputs": [
    {
     "name": "stdout",
     "output_type": "stream",
     "text": [
      "nomeroD\n"
     ]
    }
   ],
   "source": [
    "# 25) WAP to check whether a given string of first character is alphabet or not\n",
    "# if the alphabet prints, reverse the string or else print the middle character\n",
    "n='Doremon'\n",
    "if 'A'<=n[0]<='Z' or 'a'<=n[0]<='z':\n",
    "    s=n[-1::-1]\n",
    "    print(s)\n",
    "else:\n",
    "    r=n[len(n)//2]\n",
    "    print(r)"
   ]
  },
  {
   "cell_type": "code",
   "execution_count": 38,
   "metadata": {},
   "outputs": [
    {
     "name": "stdout",
     "output_type": "stream",
     "text": [
      "t\n"
     ]
    }
   ],
   "source": [
    "# 26) WAP to check whether the given input character is uppercase or\n",
    "# lowercase. Ifthe input character is upper case convert into lower case and vice versa.\n",
    "ch='T'\n",
    "if 'A'<=ch<='Z':\n",
    "    r=chr(ord(ch)+32)\n",
    "    print(r)\n",
    "else:\n",
    "    s=chr(ord(ch)-32)\n",
    "    print(s)\n",
    "    \n"
   ]
  },
  {
   "cell_type": "code",
   "execution_count": 76,
   "metadata": {},
   "outputs": [
    {
     "name": "stdout",
     "output_type": "stream",
     "text": [
      "nchan\n"
     ]
    }
   ],
   "source": [
    "# 27) WAP to check whether a given string is less than 3 characters, to print the\n",
    "# entire string otherwise to print after third positions to the remaining string.\n",
    "ch='Shinchan'\n",
    "if len(ch)<3:\n",
    "    print(ch)\n",
    "else:\n",
    "    r=ch[3:len(ch)]\n",
    "    print(r)"
   ]
  },
  {
   "cell_type": "code",
   "execution_count": 3,
   "metadata": {},
   "outputs": [
    {
     "name": "stdout",
     "output_type": "stream",
     "text": [
      "byeBanana\n"
     ]
    }
   ],
   "source": [
    "# 28) WAP to check whether a given length of the string is even or not. if\n",
    "# even, to append the new string called \"bye\" or else print the first and last characters\n",
    "n='Banana'\n",
    "if len(n)%2==0:\n",
    "    r='bye'+n\n",
    "    print(r)\n",
    "else:\n",
    "    print(n[0])\n",
    "    print(n[-1])"
   ]
  },
  {
   "cell_type": "code",
   "execution_count": 6,
   "metadata": {},
   "outputs": [
    {
     "name": "stdout",
     "output_type": "stream",
     "text": [
      "HaiiApple\n"
     ]
    }
   ],
   "source": [
    "# 29) WAP to check whether a given length of the string is odd or not. if odd, to \n",
    "# append the new string(\"Haii\") from the starting of the given string, or else to avoid the \n",
    "# starting character and ending character of the given string and to display the remaining character\n",
    "ch='Apple'\n",
    "if len(ch)%2!=0:\n",
    "    s='Haii'+ch\n",
    "    print(s)\n",
    "else:\n",
    "    r=ch[1:len(ch)-1]\n",
    "    print(r)"
   ]
  },
  {
   "cell_type": "code",
   "execution_count": 23,
   "metadata": {},
   "outputs": [
    {
     "name": "stdout",
     "output_type": "stream",
     "text": [
      "@ema\n"
     ]
    }
   ],
   "source": [
    "# 30) WAP to check whether the last of the given string is a special character or not, if the special \n",
    "# character prints reverse the string except the last character or else to check if the length of the \n",
    "# string is odd or not, if odd to extract the middle character to the end of the string\n",
    "ch='Name@'\n",
    "if not ('A'<=ch[-1]<='Z' and 'a'<=ch[-1]<='z' and '0'<=ch[-1]<'9')  or len(ch)%2==0:\n",
    "    r=ch[-1:len(ch)-5:-1]\n",
    "    print(r)\n",
    "else:\n",
    "    print(ch[len(ch)//2])\n"
   ]
  },
  {
   "cell_type": "code",
   "execution_count": 27,
   "metadata": {},
   "outputs": [
    {
     "name": "stdout",
     "output_type": "stream",
     "text": [
      "Year is leap year\n"
     ]
    }
   ],
   "source": [
    "# 31) WAP to check whether a given year is a leap year or not. if leap year,\n",
    "# print leapyear or else not a leap year\n",
    "n=2020\n",
    "if n%4==0 and n%100!=0:\n",
    "    print('Year is leap year')\n",
    "else:\n",
    "    print('Not a leap year')\n",
    "    \n"
   ]
  },
  {
   "cell_type": "code",
   "execution_count": 39,
   "metadata": {},
   "outputs": [
    {
     "name": "stdout",
     "output_type": "stream",
     "text": [
      "a is smallest\n"
     ]
    }
   ],
   "source": [
    "# 32) WAP to find out the greatest of two numbers and display the greatest\n",
    "# number. ifthe greatest number, display the greatest message with value\n",
    "a=100\n",
    "b=200\n",
    "if a>b:\n",
    "    print('a is greatest')\n",
    "else:\n",
    "    print('a is smallest')\n"
   ]
  },
  {
   "cell_type": "code",
   "execution_count": 70,
   "metadata": {},
   "outputs": [
    {
     "name": "stdout",
     "output_type": "stream",
     "text": [
      "[33, 200, 300, -401]\n"
     ]
    }
   ],
   "source": [
    "# 35) WAP to check whether a given value is a list and first and last values should be integer if\n",
    "# condition is satisfied first value is True division by 3 and perform the bitwise not for last value\n",
    "# and those result values are stored in same positions in given list or else, to perform length of the \n",
    "# collection power by 2 and display value.\n",
    "m=[100,200,300,400]\n",
    "if type(m)==list and type(m[0])==int and type(m[-1])==int:\n",
    "    r=m[0]//3\n",
    "    s= ~ m[-1]\n",
    "    p=[r]+m[1:len(m)-1:]+[s]\n",
    "    print(p)\n",
    "else:\n",
    "    v=len(m)**2\n",
    "    print(v)\n",
    "    \n",
    "    \n",
    "    "
   ]
  },
  {
   "cell_type": "code",
   "execution_count": 91,
   "metadata": {},
   "outputs": [
    {
     "name": "stdout",
     "output_type": "stream",
     "text": [
      "12345Haii56789\n"
     ]
    }
   ],
   "source": [
    "# 36) WAP to check whether a given value is a string or not and length of the value should be more \n",
    "# than 7, if condition is satisfied to append the new string in the middle of the given string or \n",
    "# else to perform the replications with 3 and display the result.\n",
    "n=123456789\n",
    "r=str(n)\n",
    "if type(r)==str and len(r)>7:\n",
    "    p=r[0:len(r)//2+1:]+'Haii'+r[len(r)//2:]\n",
    "    print(p)\n",
    "else: \n",
    "    print(r*3)\n",
    "    \n"
   ]
  },
  {
   "cell_type": "code",
   "execution_count": 126,
   "metadata": {},
   "outputs": [
    {
     "name": "stdout",
     "output_type": "stream",
     "text": [
      "ABEF\n",
      "CCADEF\n"
     ]
    }
   ],
   "source": [
    "#37) WAP to check if the given string of first and second character should be sequence or not. if the \n",
    "#sequence prints the first, second and last two characters, or else the first half string is reversed and the \n",
    "#remaining half string should be normal and display it.\n",
    "s='ABCDEF'\n",
    "if ord(s[0])==ord(s[1])-1:\n",
    "    p=s[0]+s[1]+s[-2:]\n",
    "    print(p)\n",
    "else:\n",
    "    r=s[0:len(s)//2][::-1]+s[len(s)//2:]\n",
    "    print(r)\n",
    "s='ACCDEF'\n",
    "if ord(s[0])==ord(s[1])-1:\n",
    "    p=s[0]+s[1]+s[-2:]\n",
    "    print(p)\n",
    "else:\n",
    "    r=s[0:len(s)//2][::-1]+s[len(s)//2:]\n",
    "    print(r)\n",
    "    \n",
    "\n",
    " "
   ]
  },
  {
   "cell_type": "code",
   "execution_count": 132,
   "metadata": {},
   "outputs": [
    {
     "name": "stdout",
     "output_type": "stream",
     "text": [
      "value in collection\n"
     ]
    }
   ],
   "source": [
    "# 38) . WAP to check whether a given value is present inside the collection or\n",
    "# not. If present, print the value or else print value is not found\n",
    "n=10\n",
    "m={20,10,30,40}\n",
    "if n in m:\n",
    "    print('value in collection')\n",
    "else:\n",
    "    print('value not in collection')\n",
    "\n",
    "    \n"
   ]
  },
  {
   "cell_type": "code",
   "execution_count": 139,
   "metadata": {},
   "outputs": [
    {
     "name": "stdout",
     "output_type": "stream",
     "text": [
      "10\n"
     ]
    }
   ],
   "source": [
    "# 39) WAP to check whether a given key is present in the dict or not. if key is\n",
    "# present:display the value or else add key and new value inside the dict.\n",
    "n='a'\n",
    "d={'a':10,'b':20,'c':30}\n",
    "if n in d:\n",
    "    print(d['a'])\n",
    "else:\n",
    "    d|={'e':40}\n",
    "    print(d)"
   ]
  },
  {
   "cell_type": "code",
   "execution_count": 147,
   "metadata": {},
   "outputs": [
    {
     "name": "stdout",
     "output_type": "stream",
     "text": [
      "{10, 20, 30}\n",
      "{40, 10, 20, 30}\n"
     ]
    }
   ],
   "source": [
    "# 40)WAP to check whether a given collection is set or not. if set, append the \n",
    "# new value, or else eliminate the duplicate values in collection. final results should be set type.\n",
    "a=[10,20,30,30,20]\n",
    "if type(a)==set:\n",
    "    a|={40}\n",
    "    print(a)\n",
    "else: \n",
    "    print(set(a))\n",
    "a={10,20,30,30,20}\n",
    "if type(a)==set:\n",
    "    a|={40}\n",
    "    print(a)\n",
    "else: \n",
    "    print(set(a))\n",
    "\n",
    "\n",
    "    "
   ]
  },
  {
   "cell_type": "code",
   "execution_count": 148,
   "metadata": {},
   "outputs": [
    {
     "name": "stdout",
     "output_type": "stream",
     "text": [
      "26\n"
     ]
    }
   ],
   "source": [
    "# 41) WAP to read the age of a candidate and determine whether it is eligible \n",
    "# for his/her own vote or not.it eligible print age and eligible messages or else printnot eligible.\n",
    "age=26\n",
    "if age>18:\n",
    "    print(age)\n",
    "else:\n",
    "    print('not eligible') "
   ]
  },
  {
   "cell_type": "code",
   "execution_count": 152,
   "metadata": {},
   "outputs": [
    {
     "name": "stdout",
     "output_type": "stream",
     "text": [
      "0\n"
     ]
    }
   ],
   "source": [
    "# 42) WAP to check whether a given value is even and in between 47 to 58 and not in 0 or odd. \n",
    "# if condition is True, to perform display the ascii character or else to perform floor division with 5 and display it.\n",
    "n=48\n",
    "if n%2==0 and 47<=n<=58 and n!=0 or n%2!=0:\n",
    "    print(chr(n)) \n",
    "else:\n",
    "    print(n//5)\n"
   ]
  },
  {
   "cell_type": "code",
   "execution_count": 153,
   "metadata": {},
   "outputs": [
    {
     "name": "stdout",
     "output_type": "stream",
     "text": [
      "it is a palindrome\n"
     ]
    }
   ],
   "source": [
    "# 43)WAP to check whether the given string is palindrome or not if it is a \n",
    "# palindrome string palindrome along with the string if it is not a palindrome print not palindrom\n",
    "ch='POP'\n",
    "if ch==ch[::-1]:\n",
    "    print('it is a palindrome')\n",
    "else:\n",
    "    print('not a palindrome')"
   ]
  },
  {
   "cell_type": "code",
   "execution_count": 3,
   "metadata": {},
   "outputs": [
    {
     "name": "stdout",
     "output_type": "stream",
     "text": [
      "GoodMood\n"
     ]
    }
   ],
   "source": [
    "# 46) WAP to check length of both string collections are equal or not. if both are equalprint the concat the \n",
    "# two strings and display, or else if any one of the collectionnot equal print both the collections with lengths\n",
    "n='Good'\n",
    "m='Mood'\n",
    "if len(n)==len(m):\n",
    "    r=n+m\n",
    "    print(r)\n",
    "else:\n",
    "    print(n) \n",
    "    print(len(n))\n",
    "    print(m)\n",
    "    print(len(m))\n",
    "\n",
    "\n",
    "\n"
   ]
  },
  {
   "cell_type": "code",
   "execution_count": 10,
   "metadata": {},
   "outputs": [
    {
     "name": "stdout",
     "output_type": "stream",
     "text": [
      "1 140709549368104\n",
      "5 140709549368232\n"
     ]
    }
   ],
   "source": [
    "# 47) WAP to check whether both given values point to the same memory location or not. if it is true\n",
    "# print the middle item of the second collection, or else if it is false print the first item and last \n",
    "# item of the first collection along with the memory address\n",
    "a=[1,2,3,4,5]\n",
    "b=[1,2,3,4,5]\n",
    "if id(a)==id(b):\n",
    "    s=b[len(b)//2]\n",
    "    print(s)\n",
    "else:\n",
    "    print(a[0], id(a[0]))\n",
    "    print(a[-1], id(a[-1]))\n",
    "    \n"
   ]
  },
  {
   "cell_type": "code",
   "execution_count": 13,
   "metadata": {},
   "outputs": [
    {
     "name": "stdout",
     "output_type": "stream",
     "text": [
      "65 70 75\n"
     ]
    }
   ],
   "source": [
    "# 48) WAP to check whether a given string collection is more than ten, and the first + last character \n",
    "# of the ascii values should be divisible by 5, if condition is satisfiedprint first, middle, \n",
    "# last characters ASCII values or else print the string three times\n",
    "str='ABCDEFGHIJK'\n",
    "if len(str)>10 and (ord(str[0])+ord(str[-1]))%5==0:\n",
    "    print(ord(str[0]),ord(str[len(str)//2]),ord(str[-1]))\n",
    "else:\n",
    "    print(str*3)\n"
   ]
  },
  {
   "cell_type": "code",
   "execution_count": 20,
   "metadata": {},
   "outputs": [
    {
     "name": "stdout",
     "output_type": "stream",
     "text": [
      "[10, 20, 'Believe', 40, 50]\n"
     ]
    }
   ],
   "source": [
    "# 49) WAP to check whether the middle of the item present in the list is string \n",
    "# data type or not if it is string print that list or else if it is not string then \n",
    "# print that middle item\n",
    "l=[10,20,\"Believe\",40,50]\n",
    "r=l[len(l)//2]\n",
    "if type(r)==str:\n",
    "    print(l)\n",
    "else:\n",
    "    print(l[len(l)//2])\n",
    "\n",
    "    \n",
    "    \n",
    "     \n",
    "     "
   ]
  },
  {
   "cell_type": "code",
   "execution_count": 36,
   "metadata": {},
   "outputs": [
    {
     "name": "stdout",
     "output_type": "stream",
     "text": [
      "yappH\n"
     ]
    }
   ],
   "source": [
    "# 50) WAP Given a string, return a new string where the first and last\n",
    "# characters have been exchanged.\n",
    "a='Happy'\n",
    "print(a[-1]+a[1:len(a)-1]+a[0])\n"
   ]
  },
  {
   "cell_type": "code",
   "execution_count": 44,
   "metadata": {},
   "outputs": [
    {
     "name": "stdout",
     "output_type": "stream",
     "text": [
      "49\n"
     ]
    }
   ],
   "source": [
    "# 51) Write a program to find out such numbers which are divisible by 7 but are not a multiple of 5. \n",
    "# Both the conditional is satisfied and print actual value. if one condition is not satisfied actual number \n",
    "# is multiply by 4 and print result\n",
    "a=49\n",
    "if a%7==0 and a%10!=5 and a%10!=0:\n",
    "    print(49)\n",
    "else:\n",
    "    print(a*4)\n"
   ]
  },
  {
   "cell_type": "code",
   "execution_count": 45,
   "metadata": {},
   "outputs": [
    {
     "name": "stdout",
     "output_type": "stream",
     "text": [
      "140709549371272 140709549371272\n"
     ]
    }
   ],
   "source": [
    "# 52) . WAP to check whether two values are pointing to the same memory address or not. \n",
    "# If the same memory displays the address or else displays the two values addresses\n",
    "a=100\n",
    "b=100\n",
    "if id(a)==id(b):\n",
    "    print(id(a), id(b))\n",
    "else:\n",
    "    print(a,b)\n"
   ]
  },
  {
   "cell_type": "code",
   "execution_count": 46,
   "metadata": {},
   "outputs": [
    {
     "name": "stdout",
     "output_type": "stream",
     "text": [
      "&&&\n"
     ]
    }
   ],
   "source": [
    "# 53) WAP to check whether a given input character is a special symbol or not if \n",
    "# it is a special symbol then print that character three times and tell print that character 5 times\n",
    "a='&'\n",
    "if not('a'<=a<='z'and 'A'<=a<='Z'and '0'<=a<='9'):\n",
    "    print(a*3)\n",
    "else:\n",
    "    print(a*5)\n"
   ]
  },
  {
   "cell_type": "code",
   "execution_count": 2,
   "metadata": {},
   "outputs": [
    {
     "name": "stdout",
     "output_type": "stream",
     "text": [
      "Good\n"
     ]
    }
   ],
   "source": [
    "# 54) WAP to check length of both string collections equal or not if it is equal\n",
    "# print the connection of any one of the collections if it is not equal print both the collection\n",
    "a='Good'\n",
    "b='Mood'\n",
    "if len(a)==len(b):\n",
    "    print(a)\n",
    "else:\n",
    "    print(a,b)\n"
   ]
  },
  {
   "cell_type": "code",
   "execution_count": 3,
   "metadata": {},
   "outputs": [
    {
     "data": {
      "text/plain": [
       "False"
      ]
     },
     "execution_count": 3,
     "metadata": {},
     "output_type": "execute_result"
    }
   ],
   "source": [
    "# 55) WAP To check whether both input variables point to the same memory \n",
    "# location or not if it is true print the last item of the second collection, if it is \n",
    "# false print the first item of the first collection along with the memory address.\n",
    "a=(1,2,3,4)\n",
    "b=(1,2,3,4)\n",
    "id(a)==id(b)\n"
   ]
  },
  {
   "cell_type": "code",
   "execution_count": 14,
   "metadata": {},
   "outputs": [
    {
     "name": "stdout",
     "output_type": "stream",
     "text": [
      "bhiachanbhiachanbhiachan\n"
     ]
    }
   ],
   "source": [
    "# 56) WAP to print the string collection five times when the length of the string collection should be \n",
    "# more than 3 and the middle character of the string shouldbe vowel and the first character ASCII value should be even, \n",
    "# to print the previous character of middle character, or else if ASCII value is odd then print the stringthree times as \n",
    "# print that string.\n",
    "n='bhiachan'\n",
    "if len(n)>3 and n[len(n)//2] in 'AEIOUaeiou' and ord(n[0])%2==0:\n",
    "    m=chr(ord(n[len(n)//2])-1)\n",
    "    print(m)\n",
    "else:\n",
    "    print(n*3)\n"
   ]
  },
  {
   "cell_type": "code",
   "execution_count": 36,
   "metadata": {},
   "outputs": [
    {
     "name": "stdout",
     "output_type": "stream",
     "text": [
      "By the pen\n"
     ]
    }
   ],
   "source": [
    "# 57) Ravi would like to buy a new cello or red pen. The cost of the pen should\n",
    "# be 10.If the pen is available in the shop, he will buy the pen. If it is not \n",
    "# there he will come out of the shop\n",
    "a='cello pen'\n",
    "b=10\n",
    "if b==10 and  a=='cello pen' or a=='red pen':\n",
    "    print('By the pen')\n",
    "else:\n",
    "    print('come out of the shop')\n",
    "\n",
    "\n",
    "\n"
   ]
  },
  {
   "cell_type": "code",
   "execution_count": 16,
   "metadata": {},
   "outputs": [
    {
     "name": "stdout",
     "output_type": "stream",
     "text": [
      "90\n"
     ]
    }
   ],
   "source": [
    "# 58) WAP to perform addition and subtraction operation by using list collection \n",
    "# if the first and middle data items number are even performing addition operation, orelse performing subtraction\n",
    "a=[10,20,30,40,50]\n",
    "if (a[0] and a[len(a)//2] and a[-1])%2==0:\n",
    "    print(a[0]+a[len(a)//2]+a[-1])\n",
    "else:\n",
    "    print(a[0]-a[len(a)//2]-a[-1])\n"
   ]
  },
  {
   "cell_type": "code",
   "execution_count": 25,
   "metadata": {},
   "outputs": [
    {
     "name": "stdout",
     "output_type": "stream",
     "text": [
      "[10, 20, 30, 40]\n"
     ]
    }
   ],
   "source": [
    "# 59) WAP to check whether the first item of these two lists is either integer\n",
    "# or not.If it is an integer, concatenate these two lists or else print the\n",
    "# memoryaddress of these two lists\n",
    "a=[10,20]\n",
    "b=[30,40]\n",
    "if (type(a[0])and type(b[0]))==int:\n",
    "    s=a+b\n",
    "    print(s)\n",
    "else:\n",
    "    print(id(a),id(b))\n",
    "    \n"
   ]
  }
 ],
 "metadata": {
  "kernelspec": {
   "display_name": "Python 3",
   "language": "python",
   "name": "python3"
  },
  "language_info": {
   "codemirror_mode": {
    "name": "ipython",
    "version": 3
   },
   "file_extension": ".py",
   "mimetype": "text/x-python",
   "name": "python",
   "nbconvert_exporter": "python",
   "pygments_lexer": "ipython3",
   "version": "3.11.4"
  },
  "orig_nbformat": 4
 },
 "nbformat": 4,
 "nbformat_minor": 2
}
